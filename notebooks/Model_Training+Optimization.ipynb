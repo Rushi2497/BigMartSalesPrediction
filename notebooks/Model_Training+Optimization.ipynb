{
 "cells": [
  {
   "cell_type": "markdown",
   "id": "3fb7c022",
   "metadata": {},
   "source": [
    "# Big Mart Sales Prediction\n",
    "\n",
    "<u>**Assignment Objective**</u>: Given a training dataset (~8k rows), predict product sales for the given test dataset (~5k rows)\n",
    "\n",
    "<u>**Notebook Objective**</u>: Explore different ML models, tune hyperparameters, optimize the best performing model further\n",
    "\n",
    "**Content**:\n",
    "1. Data Import\n",
    "2. Model Tuning Setup\n",
    "3. Model Inference and CV Scores\n",
    "4. Additional Optimization"
   ]
  },
  {
   "cell_type": "code",
   "execution_count": 1,
   "id": "01cd7455",
   "metadata": {},
   "outputs": [],
   "source": [
    "import optuna\n",
    "import numpy as np\n",
    "import pandas as pd\n",
    "from sklearn.ensemble import GradientBoostingRegressor\n",
    "import lightgbm as lgb\n",
    "import xgboost as xgb\n",
    "from catboost import CatBoostRegressor\n",
    "from sklearn.model_selection import RepeatedKFold, cross_val_score\n",
    "from sklearn.metrics import make_scorer, mean_squared_error"
   ]
  },
  {
   "cell_type": "markdown",
   "id": "72db3b4d",
   "metadata": {},
   "source": [
    "## Data Import"
   ]
  },
  {
   "cell_type": "code",
   "execution_count": 2,
   "id": "fa1dab92",
   "metadata": {},
   "outputs": [],
   "source": [
    "df_train_ohe = pd.read_csv('../data/df_train_ohe.csv',index_col=0)\n",
    "df_test_ohe = pd.read_csv('../data/df_test_ohe.csv',index_col=0)\n",
    "\n",
    "df_train_cat = pd.read_csv('../data/df_train_cat.csv',index_col=0)\n",
    "df_test_cat = pd.read_csv('../data/df_test_cat.csv',index_col=0)\n",
    "\n",
    "# Importing original test data set to get the item and outler IDs for submission\n",
    "test = pd.read_csv('../data/test.csv')"
   ]
  },
  {
   "cell_type": "code",
   "execution_count": 3,
   "id": "58f0ccbf",
   "metadata": {},
   "outputs": [],
   "source": [
    "# X,y for regular models\n",
    "X_ohe = df_train_ohe.drop(['Item_Outlet_Sales'],axis=1)\n",
    "y_ohe = df_train_ohe['Item_Outlet_Sales']\n",
    "\n",
    "# X,y for CatBoost model\n",
    "X_cat = df_train_cat.drop(['Item_Outlet_Sales'],axis=1)\n",
    "y_cat = df_train_cat['Item_Outlet_Sales']"
   ]
  },
  {
   "cell_type": "markdown",
   "id": "d6ef0ead",
   "metadata": {},
   "source": [
    "Checking if the data is as we expected it after exporting from EDA notebook:"
   ]
  },
  {
   "cell_type": "code",
   "execution_count": 4,
   "id": "32424deb",
   "metadata": {},
   "outputs": [
    {
     "data": {
      "application/vnd.microsoft.datawrangler.viewer.v0+json": {
       "columns": [
        {
         "name": "index",
         "rawType": "int64",
         "type": "integer"
        },
        {
         "name": "Item_Weight",
         "rawType": "float64",
         "type": "float"
        },
        {
         "name": "Item_Fat_Content",
         "rawType": "int64",
         "type": "integer"
        },
        {
         "name": "Item_Visibility",
         "rawType": "float64",
         "type": "float"
        },
        {
         "name": "Item_MRP",
         "rawType": "float64",
         "type": "float"
        },
        {
         "name": "Outlet_Size",
         "rawType": "int64",
         "type": "integer"
        },
        {
         "name": "Outlet_Location_Type",
         "rawType": "int64",
         "type": "integer"
        },
        {
         "name": "Outlet_Type",
         "rawType": "int64",
         "type": "integer"
        },
        {
         "name": "Item_ID",
         "rawType": "int64",
         "type": "integer"
        },
        {
         "name": "Outlet_Age",
         "rawType": "int64",
         "type": "integer"
        },
        {
         "name": "price/weight",
         "rawType": "float64",
         "type": "float"
        },
        {
         "name": "Outlet_Identifier_HIGH",
         "rawType": "int64",
         "type": "integer"
        },
        {
         "name": "Outlet_Identifier_LOW",
         "rawType": "int64",
         "type": "integer"
        },
        {
         "name": "Outlet_Identifier_MED",
         "rawType": "int64",
         "type": "integer"
        },
        {
         "name": "Item_MRP_Group_A",
         "rawType": "int64",
         "type": "integer"
        },
        {
         "name": "Item_MRP_Group_B",
         "rawType": "int64",
         "type": "integer"
        },
        {
         "name": "Item_MRP_Group_C",
         "rawType": "int64",
         "type": "integer"
        },
        {
         "name": "Item_MRP_Group_D",
         "rawType": "int64",
         "type": "integer"
        }
       ],
       "ref": "055abac0-4f84-4fbf-b95f-dcb2caf7daf3",
       "rows": [
        [
         "0",
         "9.3",
         "0",
         "-4.132214605540695",
         "249.8092",
         "1",
         "1",
         "1",
         "2",
         "14",
         "26.86120430107527",
         "0",
         "0",
         "1",
         "0",
         "0",
         "0",
         "1"
        ],
        [
         "1",
         "5.92",
         "1",
         "-3.9487795252013376",
         "48.2692",
         "1",
         "3",
         "2",
         "0",
         "4",
         "8.15358108108108",
         "0",
         "0",
         "1",
         "1",
         "0",
         "0",
         "0"
        ],
        [
         "2",
         "17.5",
         "0",
         "-4.088755708997878",
         "141.618",
         "1",
         "1",
         "1",
         "2",
         "14",
         "8.092457142857143",
         "0",
         "0",
         "1",
         "0",
         "0",
         "1",
         "0"
        ],
        [
         "3",
         "19.2",
         "1",
         "-4.181624629851282",
         "182.095",
         "0",
         "3",
         "0",
         "2",
         "15",
         "9.484114583333334",
         "0",
         "1",
         "0",
         "0",
         "0",
         "1",
         "0"
        ],
        [
         "4",
         "8.93",
         "0",
         "-4.81809698154736",
         "53.8614",
         "2",
         "3",
         "1",
         "1",
         "26",
         "6.031511758118701",
         "0",
         "0",
         "1",
         "1",
         "0",
         "0",
         "0"
        ]
       ],
       "shape": {
        "columns": 17,
        "rows": 5
       }
      },
      "text/html": [
       "<div>\n",
       "<style scoped>\n",
       "    .dataframe tbody tr th:only-of-type {\n",
       "        vertical-align: middle;\n",
       "    }\n",
       "\n",
       "    .dataframe tbody tr th {\n",
       "        vertical-align: top;\n",
       "    }\n",
       "\n",
       "    .dataframe thead th {\n",
       "        text-align: right;\n",
       "    }\n",
       "</style>\n",
       "<table border=\"1\" class=\"dataframe\">\n",
       "  <thead>\n",
       "    <tr style=\"text-align: right;\">\n",
       "      <th></th>\n",
       "      <th>Item_Weight</th>\n",
       "      <th>Item_Fat_Content</th>\n",
       "      <th>Item_Visibility</th>\n",
       "      <th>Item_MRP</th>\n",
       "      <th>Outlet_Size</th>\n",
       "      <th>Outlet_Location_Type</th>\n",
       "      <th>Outlet_Type</th>\n",
       "      <th>Item_ID</th>\n",
       "      <th>Outlet_Age</th>\n",
       "      <th>price/weight</th>\n",
       "      <th>Outlet_Identifier_HIGH</th>\n",
       "      <th>Outlet_Identifier_LOW</th>\n",
       "      <th>Outlet_Identifier_MED</th>\n",
       "      <th>Item_MRP_Group_A</th>\n",
       "      <th>Item_MRP_Group_B</th>\n",
       "      <th>Item_MRP_Group_C</th>\n",
       "      <th>Item_MRP_Group_D</th>\n",
       "    </tr>\n",
       "  </thead>\n",
       "  <tbody>\n",
       "    <tr>\n",
       "      <th>0</th>\n",
       "      <td>9.30</td>\n",
       "      <td>0</td>\n",
       "      <td>-4.132215</td>\n",
       "      <td>249.8092</td>\n",
       "      <td>1</td>\n",
       "      <td>1</td>\n",
       "      <td>1</td>\n",
       "      <td>2</td>\n",
       "      <td>14</td>\n",
       "      <td>26.861204</td>\n",
       "      <td>0</td>\n",
       "      <td>0</td>\n",
       "      <td>1</td>\n",
       "      <td>0</td>\n",
       "      <td>0</td>\n",
       "      <td>0</td>\n",
       "      <td>1</td>\n",
       "    </tr>\n",
       "    <tr>\n",
       "      <th>1</th>\n",
       "      <td>5.92</td>\n",
       "      <td>1</td>\n",
       "      <td>-3.948780</td>\n",
       "      <td>48.2692</td>\n",
       "      <td>1</td>\n",
       "      <td>3</td>\n",
       "      <td>2</td>\n",
       "      <td>0</td>\n",
       "      <td>4</td>\n",
       "      <td>8.153581</td>\n",
       "      <td>0</td>\n",
       "      <td>0</td>\n",
       "      <td>1</td>\n",
       "      <td>1</td>\n",
       "      <td>0</td>\n",
       "      <td>0</td>\n",
       "      <td>0</td>\n",
       "    </tr>\n",
       "    <tr>\n",
       "      <th>2</th>\n",
       "      <td>17.50</td>\n",
       "      <td>0</td>\n",
       "      <td>-4.088756</td>\n",
       "      <td>141.6180</td>\n",
       "      <td>1</td>\n",
       "      <td>1</td>\n",
       "      <td>1</td>\n",
       "      <td>2</td>\n",
       "      <td>14</td>\n",
       "      <td>8.092457</td>\n",
       "      <td>0</td>\n",
       "      <td>0</td>\n",
       "      <td>1</td>\n",
       "      <td>0</td>\n",
       "      <td>0</td>\n",
       "      <td>1</td>\n",
       "      <td>0</td>\n",
       "    </tr>\n",
       "    <tr>\n",
       "      <th>3</th>\n",
       "      <td>19.20</td>\n",
       "      <td>1</td>\n",
       "      <td>-4.181625</td>\n",
       "      <td>182.0950</td>\n",
       "      <td>0</td>\n",
       "      <td>3</td>\n",
       "      <td>0</td>\n",
       "      <td>2</td>\n",
       "      <td>15</td>\n",
       "      <td>9.484115</td>\n",
       "      <td>0</td>\n",
       "      <td>1</td>\n",
       "      <td>0</td>\n",
       "      <td>0</td>\n",
       "      <td>0</td>\n",
       "      <td>1</td>\n",
       "      <td>0</td>\n",
       "    </tr>\n",
       "    <tr>\n",
       "      <th>4</th>\n",
       "      <td>8.93</td>\n",
       "      <td>0</td>\n",
       "      <td>-4.818097</td>\n",
       "      <td>53.8614</td>\n",
       "      <td>2</td>\n",
       "      <td>3</td>\n",
       "      <td>1</td>\n",
       "      <td>1</td>\n",
       "      <td>26</td>\n",
       "      <td>6.031512</td>\n",
       "      <td>0</td>\n",
       "      <td>0</td>\n",
       "      <td>1</td>\n",
       "      <td>1</td>\n",
       "      <td>0</td>\n",
       "      <td>0</td>\n",
       "      <td>0</td>\n",
       "    </tr>\n",
       "  </tbody>\n",
       "</table>\n",
       "</div>"
      ],
      "text/plain": [
       "   Item_Weight  Item_Fat_Content  Item_Visibility  Item_MRP  Outlet_Size  \\\n",
       "0         9.30                 0        -4.132215  249.8092            1   \n",
       "1         5.92                 1        -3.948780   48.2692            1   \n",
       "2        17.50                 0        -4.088756  141.6180            1   \n",
       "3        19.20                 1        -4.181625  182.0950            0   \n",
       "4         8.93                 0        -4.818097   53.8614            2   \n",
       "\n",
       "   Outlet_Location_Type  Outlet_Type  Item_ID  Outlet_Age  price/weight  \\\n",
       "0                     1            1        2          14     26.861204   \n",
       "1                     3            2        0           4      8.153581   \n",
       "2                     1            1        2          14      8.092457   \n",
       "3                     3            0        2          15      9.484115   \n",
       "4                     3            1        1          26      6.031512   \n",
       "\n",
       "   Outlet_Identifier_HIGH  Outlet_Identifier_LOW  Outlet_Identifier_MED  \\\n",
       "0                       0                      0                      1   \n",
       "1                       0                      0                      1   \n",
       "2                       0                      0                      1   \n",
       "3                       0                      1                      0   \n",
       "4                       0                      0                      1   \n",
       "\n",
       "   Item_MRP_Group_A  Item_MRP_Group_B  Item_MRP_Group_C  Item_MRP_Group_D  \n",
       "0                 0                 0                 0                 1  \n",
       "1                 1                 0                 0                 0  \n",
       "2                 0                 0                 1                 0  \n",
       "3                 0                 0                 1                 0  \n",
       "4                 1                 0                 0                 0  "
      ]
     },
     "execution_count": 4,
     "metadata": {},
     "output_type": "execute_result"
    }
   ],
   "source": [
    "X_ohe.head()"
   ]
  },
  {
   "cell_type": "code",
   "execution_count": 5,
   "id": "59eafd0d",
   "metadata": {},
   "outputs": [
    {
     "data": {
      "application/vnd.microsoft.datawrangler.viewer.v0+json": {
       "columns": [
        {
         "name": "index",
         "rawType": "int64",
         "type": "integer"
        },
        {
         "name": "Item_Weight",
         "rawType": "float64",
         "type": "float"
        },
        {
         "name": "Item_Fat_Content",
         "rawType": "object",
         "type": "string"
        },
        {
         "name": "Item_Visibility",
         "rawType": "float64",
         "type": "float"
        },
        {
         "name": "Item_MRP",
         "rawType": "float64",
         "type": "float"
        },
        {
         "name": "Outlet_Identifier",
         "rawType": "object",
         "type": "string"
        },
        {
         "name": "Outlet_Size",
         "rawType": "object",
         "type": "string"
        },
        {
         "name": "Outlet_Location_Type",
         "rawType": "object",
         "type": "string"
        },
        {
         "name": "Outlet_Type",
         "rawType": "object",
         "type": "string"
        },
        {
         "name": "Item_ID",
         "rawType": "object",
         "type": "string"
        },
        {
         "name": "Outlet_Age",
         "rawType": "int64",
         "type": "integer"
        },
        {
         "name": "Item_MRP_Group",
         "rawType": "object",
         "type": "string"
        },
        {
         "name": "price/weight",
         "rawType": "float64",
         "type": "float"
        }
       ],
       "ref": "e5cac002-74dc-4a8a-83c4-0e4bb43044d5",
       "rows": [
        [
         "0",
         "9.3",
         "Low Fat",
         "-4.132214605540695",
         "249.8092",
         "MED",
         "Medium",
         "Tier 1",
         "Supermarket Type1",
         "FD",
         "14",
         "D",
         "26.86120430107527"
        ],
        [
         "1",
         "5.92",
         "Regular",
         "-3.9487795252013376",
         "48.2692",
         "MED",
         "Medium",
         "Tier 3",
         "Supermarket Type2",
         "DR",
         "4",
         "A",
         "8.15358108108108"
        ],
        [
         "2",
         "17.5",
         "Low Fat",
         "-4.088755708997878",
         "141.618",
         "MED",
         "Medium",
         "Tier 1",
         "Supermarket Type1",
         "FD",
         "14",
         "C",
         "8.092457142857143"
        ],
        [
         "3",
         "19.2",
         "Regular",
         "-4.181624629851282",
         "182.095",
         "LOW",
         "Small",
         "Tier 3",
         "Grocery Store",
         "FD",
         "15",
         "C",
         "9.484114583333334"
        ],
        [
         "4",
         "8.93",
         "Low Fat",
         "-4.81809698154736",
         "53.8614",
         "MED",
         "High",
         "Tier 3",
         "Supermarket Type1",
         "NC",
         "26",
         "A",
         "6.031511758118701"
        ]
       ],
       "shape": {
        "columns": 12,
        "rows": 5
       }
      },
      "text/html": [
       "<div>\n",
       "<style scoped>\n",
       "    .dataframe tbody tr th:only-of-type {\n",
       "        vertical-align: middle;\n",
       "    }\n",
       "\n",
       "    .dataframe tbody tr th {\n",
       "        vertical-align: top;\n",
       "    }\n",
       "\n",
       "    .dataframe thead th {\n",
       "        text-align: right;\n",
       "    }\n",
       "</style>\n",
       "<table border=\"1\" class=\"dataframe\">\n",
       "  <thead>\n",
       "    <tr style=\"text-align: right;\">\n",
       "      <th></th>\n",
       "      <th>Item_Weight</th>\n",
       "      <th>Item_Fat_Content</th>\n",
       "      <th>Item_Visibility</th>\n",
       "      <th>Item_MRP</th>\n",
       "      <th>Outlet_Identifier</th>\n",
       "      <th>Outlet_Size</th>\n",
       "      <th>Outlet_Location_Type</th>\n",
       "      <th>Outlet_Type</th>\n",
       "      <th>Item_ID</th>\n",
       "      <th>Outlet_Age</th>\n",
       "      <th>Item_MRP_Group</th>\n",
       "      <th>price/weight</th>\n",
       "    </tr>\n",
       "  </thead>\n",
       "  <tbody>\n",
       "    <tr>\n",
       "      <th>0</th>\n",
       "      <td>9.30</td>\n",
       "      <td>Low Fat</td>\n",
       "      <td>-4.132215</td>\n",
       "      <td>249.8092</td>\n",
       "      <td>MED</td>\n",
       "      <td>Medium</td>\n",
       "      <td>Tier 1</td>\n",
       "      <td>Supermarket Type1</td>\n",
       "      <td>FD</td>\n",
       "      <td>14</td>\n",
       "      <td>D</td>\n",
       "      <td>26.861204</td>\n",
       "    </tr>\n",
       "    <tr>\n",
       "      <th>1</th>\n",
       "      <td>5.92</td>\n",
       "      <td>Regular</td>\n",
       "      <td>-3.948780</td>\n",
       "      <td>48.2692</td>\n",
       "      <td>MED</td>\n",
       "      <td>Medium</td>\n",
       "      <td>Tier 3</td>\n",
       "      <td>Supermarket Type2</td>\n",
       "      <td>DR</td>\n",
       "      <td>4</td>\n",
       "      <td>A</td>\n",
       "      <td>8.153581</td>\n",
       "    </tr>\n",
       "    <tr>\n",
       "      <th>2</th>\n",
       "      <td>17.50</td>\n",
       "      <td>Low Fat</td>\n",
       "      <td>-4.088756</td>\n",
       "      <td>141.6180</td>\n",
       "      <td>MED</td>\n",
       "      <td>Medium</td>\n",
       "      <td>Tier 1</td>\n",
       "      <td>Supermarket Type1</td>\n",
       "      <td>FD</td>\n",
       "      <td>14</td>\n",
       "      <td>C</td>\n",
       "      <td>8.092457</td>\n",
       "    </tr>\n",
       "    <tr>\n",
       "      <th>3</th>\n",
       "      <td>19.20</td>\n",
       "      <td>Regular</td>\n",
       "      <td>-4.181625</td>\n",
       "      <td>182.0950</td>\n",
       "      <td>LOW</td>\n",
       "      <td>Small</td>\n",
       "      <td>Tier 3</td>\n",
       "      <td>Grocery Store</td>\n",
       "      <td>FD</td>\n",
       "      <td>15</td>\n",
       "      <td>C</td>\n",
       "      <td>9.484115</td>\n",
       "    </tr>\n",
       "    <tr>\n",
       "      <th>4</th>\n",
       "      <td>8.93</td>\n",
       "      <td>Low Fat</td>\n",
       "      <td>-4.818097</td>\n",
       "      <td>53.8614</td>\n",
       "      <td>MED</td>\n",
       "      <td>High</td>\n",
       "      <td>Tier 3</td>\n",
       "      <td>Supermarket Type1</td>\n",
       "      <td>NC</td>\n",
       "      <td>26</td>\n",
       "      <td>A</td>\n",
       "      <td>6.031512</td>\n",
       "    </tr>\n",
       "  </tbody>\n",
       "</table>\n",
       "</div>"
      ],
      "text/plain": [
       "   Item_Weight Item_Fat_Content  Item_Visibility  Item_MRP Outlet_Identifier  \\\n",
       "0         9.30          Low Fat        -4.132215  249.8092               MED   \n",
       "1         5.92          Regular        -3.948780   48.2692               MED   \n",
       "2        17.50          Low Fat        -4.088756  141.6180               MED   \n",
       "3        19.20          Regular        -4.181625  182.0950               LOW   \n",
       "4         8.93          Low Fat        -4.818097   53.8614               MED   \n",
       "\n",
       "  Outlet_Size Outlet_Location_Type        Outlet_Type Item_ID  Outlet_Age  \\\n",
       "0      Medium               Tier 1  Supermarket Type1      FD          14   \n",
       "1      Medium               Tier 3  Supermarket Type2      DR           4   \n",
       "2      Medium               Tier 1  Supermarket Type1      FD          14   \n",
       "3       Small               Tier 3      Grocery Store      FD          15   \n",
       "4        High               Tier 3  Supermarket Type1      NC          26   \n",
       "\n",
       "  Item_MRP_Group  price/weight  \n",
       "0              D     26.861204  \n",
       "1              A      8.153581  \n",
       "2              C      8.092457  \n",
       "3              C      9.484115  \n",
       "4              A      6.031512  "
      ]
     },
     "execution_count": 5,
     "metadata": {},
     "output_type": "execute_result"
    }
   ],
   "source": [
    "X_cat.head()"
   ]
  },
  {
   "cell_type": "code",
   "execution_count": 6,
   "id": "5f400ffc",
   "metadata": {},
   "outputs": [
    {
     "data": {
      "application/vnd.microsoft.datawrangler.viewer.v0+json": {
       "columns": [
        {
         "name": "index",
         "rawType": "int64",
         "type": "integer"
        },
        {
         "name": "Item_Weight",
         "rawType": "float64",
         "type": "float"
        },
        {
         "name": "Item_Fat_Content",
         "rawType": "int64",
         "type": "integer"
        },
        {
         "name": "Item_Visibility",
         "rawType": "float64",
         "type": "float"
        },
        {
         "name": "Item_MRP",
         "rawType": "float64",
         "type": "float"
        },
        {
         "name": "Outlet_Size",
         "rawType": "int64",
         "type": "integer"
        },
        {
         "name": "Outlet_Location_Type",
         "rawType": "int64",
         "type": "integer"
        },
        {
         "name": "Outlet_Type",
         "rawType": "int64",
         "type": "integer"
        },
        {
         "name": "Item_ID",
         "rawType": "int64",
         "type": "integer"
        },
        {
         "name": "Outlet_Age",
         "rawType": "int64",
         "type": "integer"
        },
        {
         "name": "price/weight",
         "rawType": "float64",
         "type": "float"
        },
        {
         "name": "Outlet_Identifier_HIGH",
         "rawType": "int64",
         "type": "integer"
        },
        {
         "name": "Outlet_Identifier_LOW",
         "rawType": "int64",
         "type": "integer"
        },
        {
         "name": "Outlet_Identifier_MED",
         "rawType": "int64",
         "type": "integer"
        },
        {
         "name": "Item_MRP_Group_A",
         "rawType": "int64",
         "type": "integer"
        },
        {
         "name": "Item_MRP_Group_B",
         "rawType": "int64",
         "type": "integer"
        },
        {
         "name": "Item_MRP_Group_C",
         "rawType": "int64",
         "type": "integer"
        },
        {
         "name": "Item_MRP_Group_D",
         "rawType": "int64",
         "type": "integer"
        }
       ],
       "ref": "b853c68a-e12c-4b6d-b788-c6f782c40c25",
       "rows": [
        [
         "0",
         "20.75",
         "0",
         "-4.884244610760679",
         "107.8622",
         "1",
         "1",
         "1",
         "2",
         "14",
         "5.198178313253012",
         "0",
         "0",
         "1",
         "0",
         "1",
         "0",
         "0"
        ],
        [
         "1",
         "8.3",
         "1",
         "-3.2589773237994173",
         "87.3198",
         "0",
         "2",
         "1",
         "2",
         "6",
         "10.5204578313253",
         "0",
         "0",
         "1",
         "0",
         "1",
         "0",
         "0"
        ],
        [
         "2",
         "14.6",
         "0",
         "-2.3068450738415445",
         "241.7538",
         "0",
         "3",
         "0",
         "1",
         "15",
         "16.558479452054797",
         "0",
         "1",
         "0",
         "0",
         "0",
         "0",
         "1"
        ],
        [
         "3",
         "7.315",
         "0",
         "-4.174141755036877",
         "155.034",
         "0",
         "2",
         "1",
         "2",
         "6",
         "21.193984962406013",
         "0",
         "0",
         "1",
         "0",
         "0",
         "1",
         "0"
        ],
        [
         "4",
         "13.6",
         "1",
         "-2.1320045765836384",
         "234.23",
         "1",
         "3",
         "3",
         "2",
         "28",
         "17.22279411764706",
         "1",
         "0",
         "0",
         "0",
         "0",
         "0",
         "1"
        ]
       ],
       "shape": {
        "columns": 17,
        "rows": 5
       }
      },
      "text/html": [
       "<div>\n",
       "<style scoped>\n",
       "    .dataframe tbody tr th:only-of-type {\n",
       "        vertical-align: middle;\n",
       "    }\n",
       "\n",
       "    .dataframe tbody tr th {\n",
       "        vertical-align: top;\n",
       "    }\n",
       "\n",
       "    .dataframe thead th {\n",
       "        text-align: right;\n",
       "    }\n",
       "</style>\n",
       "<table border=\"1\" class=\"dataframe\">\n",
       "  <thead>\n",
       "    <tr style=\"text-align: right;\">\n",
       "      <th></th>\n",
       "      <th>Item_Weight</th>\n",
       "      <th>Item_Fat_Content</th>\n",
       "      <th>Item_Visibility</th>\n",
       "      <th>Item_MRP</th>\n",
       "      <th>Outlet_Size</th>\n",
       "      <th>Outlet_Location_Type</th>\n",
       "      <th>Outlet_Type</th>\n",
       "      <th>Item_ID</th>\n",
       "      <th>Outlet_Age</th>\n",
       "      <th>price/weight</th>\n",
       "      <th>Outlet_Identifier_HIGH</th>\n",
       "      <th>Outlet_Identifier_LOW</th>\n",
       "      <th>Outlet_Identifier_MED</th>\n",
       "      <th>Item_MRP_Group_A</th>\n",
       "      <th>Item_MRP_Group_B</th>\n",
       "      <th>Item_MRP_Group_C</th>\n",
       "      <th>Item_MRP_Group_D</th>\n",
       "    </tr>\n",
       "  </thead>\n",
       "  <tbody>\n",
       "    <tr>\n",
       "      <th>0</th>\n",
       "      <td>20.750</td>\n",
       "      <td>0</td>\n",
       "      <td>-4.884245</td>\n",
       "      <td>107.8622</td>\n",
       "      <td>1</td>\n",
       "      <td>1</td>\n",
       "      <td>1</td>\n",
       "      <td>2</td>\n",
       "      <td>14</td>\n",
       "      <td>5.198178</td>\n",
       "      <td>0</td>\n",
       "      <td>0</td>\n",
       "      <td>1</td>\n",
       "      <td>0</td>\n",
       "      <td>1</td>\n",
       "      <td>0</td>\n",
       "      <td>0</td>\n",
       "    </tr>\n",
       "    <tr>\n",
       "      <th>1</th>\n",
       "      <td>8.300</td>\n",
       "      <td>1</td>\n",
       "      <td>-3.258977</td>\n",
       "      <td>87.3198</td>\n",
       "      <td>0</td>\n",
       "      <td>2</td>\n",
       "      <td>1</td>\n",
       "      <td>2</td>\n",
       "      <td>6</td>\n",
       "      <td>10.520458</td>\n",
       "      <td>0</td>\n",
       "      <td>0</td>\n",
       "      <td>1</td>\n",
       "      <td>0</td>\n",
       "      <td>1</td>\n",
       "      <td>0</td>\n",
       "      <td>0</td>\n",
       "    </tr>\n",
       "    <tr>\n",
       "      <th>2</th>\n",
       "      <td>14.600</td>\n",
       "      <td>0</td>\n",
       "      <td>-2.306845</td>\n",
       "      <td>241.7538</td>\n",
       "      <td>0</td>\n",
       "      <td>3</td>\n",
       "      <td>0</td>\n",
       "      <td>1</td>\n",
       "      <td>15</td>\n",
       "      <td>16.558479</td>\n",
       "      <td>0</td>\n",
       "      <td>1</td>\n",
       "      <td>0</td>\n",
       "      <td>0</td>\n",
       "      <td>0</td>\n",
       "      <td>0</td>\n",
       "      <td>1</td>\n",
       "    </tr>\n",
       "    <tr>\n",
       "      <th>3</th>\n",
       "      <td>7.315</td>\n",
       "      <td>0</td>\n",
       "      <td>-4.174142</td>\n",
       "      <td>155.0340</td>\n",
       "      <td>0</td>\n",
       "      <td>2</td>\n",
       "      <td>1</td>\n",
       "      <td>2</td>\n",
       "      <td>6</td>\n",
       "      <td>21.193985</td>\n",
       "      <td>0</td>\n",
       "      <td>0</td>\n",
       "      <td>1</td>\n",
       "      <td>0</td>\n",
       "      <td>0</td>\n",
       "      <td>1</td>\n",
       "      <td>0</td>\n",
       "    </tr>\n",
       "    <tr>\n",
       "      <th>4</th>\n",
       "      <td>13.600</td>\n",
       "      <td>1</td>\n",
       "      <td>-2.132005</td>\n",
       "      <td>234.2300</td>\n",
       "      <td>1</td>\n",
       "      <td>3</td>\n",
       "      <td>3</td>\n",
       "      <td>2</td>\n",
       "      <td>28</td>\n",
       "      <td>17.222794</td>\n",
       "      <td>1</td>\n",
       "      <td>0</td>\n",
       "      <td>0</td>\n",
       "      <td>0</td>\n",
       "      <td>0</td>\n",
       "      <td>0</td>\n",
       "      <td>1</td>\n",
       "    </tr>\n",
       "  </tbody>\n",
       "</table>\n",
       "</div>"
      ],
      "text/plain": [
       "   Item_Weight  Item_Fat_Content  Item_Visibility  Item_MRP  Outlet_Size  \\\n",
       "0       20.750                 0        -4.884245  107.8622            1   \n",
       "1        8.300                 1        -3.258977   87.3198            0   \n",
       "2       14.600                 0        -2.306845  241.7538            0   \n",
       "3        7.315                 0        -4.174142  155.0340            0   \n",
       "4       13.600                 1        -2.132005  234.2300            1   \n",
       "\n",
       "   Outlet_Location_Type  Outlet_Type  Item_ID  Outlet_Age  price/weight  \\\n",
       "0                     1            1        2          14      5.198178   \n",
       "1                     2            1        2           6     10.520458   \n",
       "2                     3            0        1          15     16.558479   \n",
       "3                     2            1        2           6     21.193985   \n",
       "4                     3            3        2          28     17.222794   \n",
       "\n",
       "   Outlet_Identifier_HIGH  Outlet_Identifier_LOW  Outlet_Identifier_MED  \\\n",
       "0                       0                      0                      1   \n",
       "1                       0                      0                      1   \n",
       "2                       0                      1                      0   \n",
       "3                       0                      0                      1   \n",
       "4                       1                      0                      0   \n",
       "\n",
       "   Item_MRP_Group_A  Item_MRP_Group_B  Item_MRP_Group_C  Item_MRP_Group_D  \n",
       "0                 0                 1                 0                 0  \n",
       "1                 0                 1                 0                 0  \n",
       "2                 0                 0                 0                 1  \n",
       "3                 0                 0                 1                 0  \n",
       "4                 0                 0                 0                 1  "
      ]
     },
     "execution_count": 6,
     "metadata": {},
     "output_type": "execute_result"
    }
   ],
   "source": [
    "df_test_ohe.head()"
   ]
  },
  {
   "cell_type": "code",
   "execution_count": 7,
   "id": "52acbd7b",
   "metadata": {},
   "outputs": [
    {
     "data": {
      "application/vnd.microsoft.datawrangler.viewer.v0+json": {
       "columns": [
        {
         "name": "index",
         "rawType": "int64",
         "type": "integer"
        },
        {
         "name": "Item_Weight",
         "rawType": "float64",
         "type": "float"
        },
        {
         "name": "Item_Fat_Content",
         "rawType": "object",
         "type": "string"
        },
        {
         "name": "Item_Visibility",
         "rawType": "float64",
         "type": "float"
        },
        {
         "name": "Item_MRP",
         "rawType": "float64",
         "type": "float"
        },
        {
         "name": "Outlet_Identifier",
         "rawType": "object",
         "type": "string"
        },
        {
         "name": "Outlet_Size",
         "rawType": "object",
         "type": "string"
        },
        {
         "name": "Outlet_Location_Type",
         "rawType": "object",
         "type": "string"
        },
        {
         "name": "Outlet_Type",
         "rawType": "object",
         "type": "string"
        },
        {
         "name": "Item_ID",
         "rawType": "object",
         "type": "string"
        },
        {
         "name": "Outlet_Age",
         "rawType": "int64",
         "type": "integer"
        },
        {
         "name": "Item_MRP_Group",
         "rawType": "object",
         "type": "string"
        },
        {
         "name": "price/weight",
         "rawType": "float64",
         "type": "float"
        }
       ],
       "ref": "050783b1-a2f7-4221-8fe7-f4ec6bf87b03",
       "rows": [
        [
         "0",
         "20.75",
         "Low Fat",
         "-4.884244610760679",
         "107.8622",
         "MED",
         "Medium",
         "Tier 1",
         "Supermarket Type1",
         "FD",
         "14",
         "B",
         "5.198178313253012"
        ],
        [
         "1",
         "8.3",
         "Regular",
         "-3.2589773237994173",
         "87.3198",
         "MED",
         "Small",
         "Tier 2",
         "Supermarket Type1",
         "FD",
         "6",
         "B",
         "10.5204578313253"
        ],
        [
         "2",
         "14.6",
         "Low Fat",
         "-2.3068450738415445",
         "241.7538",
         "LOW",
         "Small",
         "Tier 3",
         "Grocery Store",
         "NC",
         "15",
         "D",
         "16.558479452054797"
        ],
        [
         "3",
         "7.315",
         "Low Fat",
         "-4.174141755036877",
         "155.034",
         "MED",
         "Small",
         "Tier 2",
         "Supermarket Type1",
         "FD",
         "6",
         "C",
         "21.193984962406013"
        ],
        [
         "4",
         "13.6",
         "Regular",
         "-2.1320045765836384",
         "234.23",
         "HIGH",
         "Medium",
         "Tier 3",
         "Supermarket Type3",
         "FD",
         "28",
         "D",
         "17.22279411764706"
        ]
       ],
       "shape": {
        "columns": 12,
        "rows": 5
       }
      },
      "text/html": [
       "<div>\n",
       "<style scoped>\n",
       "    .dataframe tbody tr th:only-of-type {\n",
       "        vertical-align: middle;\n",
       "    }\n",
       "\n",
       "    .dataframe tbody tr th {\n",
       "        vertical-align: top;\n",
       "    }\n",
       "\n",
       "    .dataframe thead th {\n",
       "        text-align: right;\n",
       "    }\n",
       "</style>\n",
       "<table border=\"1\" class=\"dataframe\">\n",
       "  <thead>\n",
       "    <tr style=\"text-align: right;\">\n",
       "      <th></th>\n",
       "      <th>Item_Weight</th>\n",
       "      <th>Item_Fat_Content</th>\n",
       "      <th>Item_Visibility</th>\n",
       "      <th>Item_MRP</th>\n",
       "      <th>Outlet_Identifier</th>\n",
       "      <th>Outlet_Size</th>\n",
       "      <th>Outlet_Location_Type</th>\n",
       "      <th>Outlet_Type</th>\n",
       "      <th>Item_ID</th>\n",
       "      <th>Outlet_Age</th>\n",
       "      <th>Item_MRP_Group</th>\n",
       "      <th>price/weight</th>\n",
       "    </tr>\n",
       "  </thead>\n",
       "  <tbody>\n",
       "    <tr>\n",
       "      <th>0</th>\n",
       "      <td>20.750</td>\n",
       "      <td>Low Fat</td>\n",
       "      <td>-4.884245</td>\n",
       "      <td>107.8622</td>\n",
       "      <td>MED</td>\n",
       "      <td>Medium</td>\n",
       "      <td>Tier 1</td>\n",
       "      <td>Supermarket Type1</td>\n",
       "      <td>FD</td>\n",
       "      <td>14</td>\n",
       "      <td>B</td>\n",
       "      <td>5.198178</td>\n",
       "    </tr>\n",
       "    <tr>\n",
       "      <th>1</th>\n",
       "      <td>8.300</td>\n",
       "      <td>Regular</td>\n",
       "      <td>-3.258977</td>\n",
       "      <td>87.3198</td>\n",
       "      <td>MED</td>\n",
       "      <td>Small</td>\n",
       "      <td>Tier 2</td>\n",
       "      <td>Supermarket Type1</td>\n",
       "      <td>FD</td>\n",
       "      <td>6</td>\n",
       "      <td>B</td>\n",
       "      <td>10.520458</td>\n",
       "    </tr>\n",
       "    <tr>\n",
       "      <th>2</th>\n",
       "      <td>14.600</td>\n",
       "      <td>Low Fat</td>\n",
       "      <td>-2.306845</td>\n",
       "      <td>241.7538</td>\n",
       "      <td>LOW</td>\n",
       "      <td>Small</td>\n",
       "      <td>Tier 3</td>\n",
       "      <td>Grocery Store</td>\n",
       "      <td>NC</td>\n",
       "      <td>15</td>\n",
       "      <td>D</td>\n",
       "      <td>16.558479</td>\n",
       "    </tr>\n",
       "    <tr>\n",
       "      <th>3</th>\n",
       "      <td>7.315</td>\n",
       "      <td>Low Fat</td>\n",
       "      <td>-4.174142</td>\n",
       "      <td>155.0340</td>\n",
       "      <td>MED</td>\n",
       "      <td>Small</td>\n",
       "      <td>Tier 2</td>\n",
       "      <td>Supermarket Type1</td>\n",
       "      <td>FD</td>\n",
       "      <td>6</td>\n",
       "      <td>C</td>\n",
       "      <td>21.193985</td>\n",
       "    </tr>\n",
       "    <tr>\n",
       "      <th>4</th>\n",
       "      <td>13.600</td>\n",
       "      <td>Regular</td>\n",
       "      <td>-2.132005</td>\n",
       "      <td>234.2300</td>\n",
       "      <td>HIGH</td>\n",
       "      <td>Medium</td>\n",
       "      <td>Tier 3</td>\n",
       "      <td>Supermarket Type3</td>\n",
       "      <td>FD</td>\n",
       "      <td>28</td>\n",
       "      <td>D</td>\n",
       "      <td>17.222794</td>\n",
       "    </tr>\n",
       "  </tbody>\n",
       "</table>\n",
       "</div>"
      ],
      "text/plain": [
       "   Item_Weight Item_Fat_Content  Item_Visibility  Item_MRP Outlet_Identifier  \\\n",
       "0       20.750          Low Fat        -4.884245  107.8622               MED   \n",
       "1        8.300          Regular        -3.258977   87.3198               MED   \n",
       "2       14.600          Low Fat        -2.306845  241.7538               LOW   \n",
       "3        7.315          Low Fat        -4.174142  155.0340               MED   \n",
       "4       13.600          Regular        -2.132005  234.2300              HIGH   \n",
       "\n",
       "  Outlet_Size Outlet_Location_Type        Outlet_Type Item_ID  Outlet_Age  \\\n",
       "0      Medium               Tier 1  Supermarket Type1      FD          14   \n",
       "1       Small               Tier 2  Supermarket Type1      FD           6   \n",
       "2       Small               Tier 3      Grocery Store      NC          15   \n",
       "3       Small               Tier 2  Supermarket Type1      FD           6   \n",
       "4      Medium               Tier 3  Supermarket Type3      FD          28   \n",
       "\n",
       "  Item_MRP_Group  price/weight  \n",
       "0              B      5.198178  \n",
       "1              B     10.520458  \n",
       "2              D     16.558479  \n",
       "3              C     21.193985  \n",
       "4              D     17.222794  "
      ]
     },
     "execution_count": 7,
     "metadata": {},
     "output_type": "execute_result"
    }
   ],
   "source": [
    "df_test_cat.head()"
   ]
  },
  {
   "cell_type": "code",
   "execution_count": 8,
   "id": "27689391",
   "metadata": {},
   "outputs": [
    {
     "data": {
      "application/vnd.microsoft.datawrangler.viewer.v0+json": {
       "columns": [
        {
         "name": "index",
         "rawType": "int64",
         "type": "integer"
        },
        {
         "name": "Item_Outlet_Sales",
         "rawType": "float64",
         "type": "float"
        }
       ],
       "ref": "d6685041-2f0c-41e9-b2e6-57fed0e4d47c",
       "rows": [
        [
         "0",
         "3735.138"
        ],
        [
         "1",
         "443.4228"
        ],
        [
         "2",
         "2097.27"
        ],
        [
         "3",
         "732.38"
        ],
        [
         "4",
         "994.7052"
        ]
       ],
       "shape": {
        "columns": 1,
        "rows": 5
       }
      },
      "text/plain": [
       "0    3735.1380\n",
       "1     443.4228\n",
       "2    2097.2700\n",
       "3     732.3800\n",
       "4     994.7052\n",
       "Name: Item_Outlet_Sales, dtype: float64"
      ]
     },
     "execution_count": 8,
     "metadata": {},
     "output_type": "execute_result"
    }
   ],
   "source": [
    "y_ohe.head()"
   ]
  },
  {
   "cell_type": "code",
   "execution_count": 9,
   "id": "93d4dd34",
   "metadata": {},
   "outputs": [
    {
     "data": {
      "application/vnd.microsoft.datawrangler.viewer.v0+json": {
       "columns": [
        {
         "name": "index",
         "rawType": "int64",
         "type": "integer"
        },
        {
         "name": "Item_Outlet_Sales",
         "rawType": "float64",
         "type": "float"
        }
       ],
       "ref": "11cffc5c-0f4a-465e-a579-a10e3c655019",
       "rows": [
        [
         "0",
         "3735.138"
        ],
        [
         "1",
         "443.4228"
        ],
        [
         "2",
         "2097.27"
        ],
        [
         "3",
         "732.38"
        ],
        [
         "4",
         "994.7052"
        ]
       ],
       "shape": {
        "columns": 1,
        "rows": 5
       }
      },
      "text/plain": [
       "0    3735.1380\n",
       "1     443.4228\n",
       "2    2097.2700\n",
       "3     732.3800\n",
       "4     994.7052\n",
       "Name: Item_Outlet_Sales, dtype: float64"
      ]
     },
     "execution_count": 9,
     "metadata": {},
     "output_type": "execute_result"
    }
   ],
   "source": [
    "y_cat.head()"
   ]
  },
  {
   "cell_type": "markdown",
   "id": "ac21855a",
   "metadata": {},
   "source": [
    "Great! Everything looks just like we wanted it to be. Let's proceed with the model selection and tuning."
   ]
  },
  {
   "cell_type": "markdown",
   "id": "039ad6b9",
   "metadata": {},
   "source": [
    "---"
   ]
  },
  {
   "cell_type": "markdown",
   "id": "3647c664",
   "metadata": {},
   "source": [
    "## Model Tuning Setup\n",
    "\n",
    "We will create a model tuner class with in built hyperparameters for 4 models --> GradientBoost, LightGBM, XGBoost and CatBoost\n",
    "\n",
    "We will also create objective functions and a run function to optimize the hyperparameters using **optuna**.\n",
    "\n",
    "Other than that, we are using a **RepeatedKFold** cross-validation to get a robust model with low variance and good generalization."
   ]
  },
  {
   "cell_type": "code",
   "execution_count": 10,
   "id": "830e09c1",
   "metadata": {},
   "outputs": [],
   "source": [
    "class ModelTuner:\n",
    "    def __init__(self, X, y, n_splits=5, n_repeats=5, random_state=42):\n",
    "        self.X = X\n",
    "        self.y = y\n",
    "        self.rkf = RepeatedKFold(n_splits=n_splits, n_repeats=n_repeats, random_state=random_state) \n",
    "        self.rmse_scorer = make_scorer(self.rmse, greater_is_better=False)\n",
    "\n",
    "    # Since our metric is RMSE, we'll create a custom scorer here for it\n",
    "    @staticmethod\n",
    "    def rmse(y_true, y_pred):\n",
    "        return np.sqrt(mean_squared_error(y_true, y_pred))\n",
    "\n",
    "    # GradientBoost Objective\n",
    "    def objective_gb(self, trial):\n",
    "        params = {\n",
    "            'n_estimators': trial.suggest_int('n_estimators', 100, 1000),\n",
    "            'learning_rate': trial.suggest_float('learning_rate', 0.01, 0.2, log=True),\n",
    "            'max_depth': trial.suggest_int('max_depth', 3, 8),\n",
    "            'min_samples_split': trial.suggest_int('min_samples_split', 2, 30),\n",
    "            'min_samples_leaf': trial.suggest_int('min_samples_leaf', 1, 20),\n",
    "            'max_features': trial.suggest_categorical('max_features', ['sqrt', 'log2', None]),\n",
    "            'subsample': trial.suggest_float('subsample', 0.6, 1.0),\n",
    "            \"random_state\": 42,\n",
    "        }\n",
    "        model = GradientBoostingRegressor(**params)\n",
    "        scores = cross_val_score(model, self.X, self.y, scoring=self.rmse_scorer, cv=self.rkf, n_jobs=-1)\n",
    "        return -np.mean(scores)\n",
    "\n",
    "    # LightGBM Objective\n",
    "    def objective_lgb(self, trial):\n",
    "        params = {\n",
    "            \"objective\": \"regression\",\n",
    "            \"metric\": \"rmse\",\n",
    "            \"verbosity\": -1,\n",
    "            'boosting_type': 'gbdt',\n",
    "            \"random_state\": 42,\n",
    "            \"n_jobs\": -1,\n",
    "            'learning_rate': trial.suggest_float('learning_rate', 0.01, 0.2, log=True),\n",
    "            'num_leaves': trial.suggest_int('num_leaves', 15, 150),\n",
    "            'max_depth': trial.suggest_int('max_depth', 3, 8),\n",
    "            'min_child_samples': trial.suggest_int('min_child_samples', 5, 50),\n",
    "            'min_child_weight': trial.suggest_float('min_child_weight', 1e-3, 10.0, log=True),\n",
    "            'subsample': trial.suggest_float('subsample', 0.5, 1.0),\n",
    "            'colsample_bytree': trial.suggest_float('colsample_bytree', 0.5, 1.0),\n",
    "            'reg_alpha': trial.suggest_float('reg_alpha', 1e-5, 5.0, log=True),\n",
    "            'reg_lambda': trial.suggest_float('reg_lambda', 1e-5, 5.0, log=True),\n",
    "            'n_estimators': trial.suggest_int('n_estimators', 100, 1000)\n",
    "        }\n",
    "        model = lgb.LGBMRegressor(**params)\n",
    "        scores = cross_val_score(model, self.X, self.y, scoring=self.rmse_scorer, cv=self.rkf, n_jobs=-1)\n",
    "        return -np.mean(scores)\n",
    "\n",
    "    # XGBoost Objective\n",
    "    def objective_xgb(self, trial):\n",
    "        params = {\n",
    "            \"objective\": \"reg:squarederror\",\n",
    "            \"eval_metric\": \"rmse\",\n",
    "            \"random_state\": 42,\n",
    "            \"n_jobs\": -1,\n",
    "            \"learning_rate\": trial.suggest_float(\"learning_rate\", 0.01, 0.2, log=True),\n",
    "            \"max_depth\": trial.suggest_int(\"max_depth\", 3, 8),\n",
    "            \"min_child_weight\": trial.suggest_int(\"min_child_weight\", 1, 10),\n",
    "            \"subsample\": trial.suggest_float(\"subsample\", 0.5, 1.0),\n",
    "            \"colsample_bytree\": trial.suggest_float(\"colsample_bytree\", 0.5, 1.0),\n",
    "            \"colsample_bylevel\": trial.suggest_float(\"colsample_bylevel\", 0.5, 1.0),\n",
    "            \"colsample_bynode\": trial.suggest_float(\"colsample_bynode\", 0.5, 1.0),\n",
    "            \"gamma\": trial.suggest_float(\"gamma\", 0, 5),\n",
    "            \"reg_alpha\": trial.suggest_float(\"reg_alpha\", 0.0, 5.0),\n",
    "            \"reg_lambda\": trial.suggest_float(\"reg_lambda\", 0.0, 10.0),\n",
    "            \"n_estimators\": trial.suggest_int(\"n_estimators\", 200, 1500),\n",
    "            \"max_leaves\": trial.suggest_int(\"max_leaves\", 4, 256)\n",
    "        }\n",
    "        model = xgb.XGBRegressor(**params)\n",
    "        scores = cross_val_score(model, self.X, self.y, scoring=self.rmse_scorer, cv=self.rkf, n_jobs=-1)\n",
    "        return -np.mean(scores)\n",
    "\n",
    "    # CatBoost Objective\n",
    "    def objective_cat(self,trial):\n",
    "        # Defining the categorical columns. This goes an input to the model.\n",
    "        cat_cols = ['Item_Fat_Content','Outlet_Identifier','Outlet_Size','Outlet_Location_Type','Outlet_Type','Item_ID','Item_MRP_Group']\n",
    "        params = {\n",
    "            'random_state': 42,\n",
    "            'loss_function': 'rmse',\n",
    "            'learning_rate': trial.suggest_float('learning_rate', 0.01, 0.2, log=True),\n",
    "            'max_depth': trial.suggest_int(\"max_depth\", 3, 8),\n",
    "            'subsample': trial.suggest_float('subsample', 0.5, 1.0),\n",
    "            'l2_leaf_reg': trial.suggest_float('l2_leaf_reg', 1, 10.0),\n",
    "            'max_bin': trial.suggest_int('max_bin', 100, 500),\n",
    "            'n_estimators':  trial.suggest_int('n_estimators', 500, 1500),\n",
    "            'min_data_in_leaf': trial.suggest_int('min_data_in_leaf', 1, 300),\n",
    "        }\n",
    "        model = CatBoostRegressor(**params,cat_features=cat_cols)\n",
    "        scores = cross_val_score(model, self.X, self.y, scoring=self.rmse_scorer, cv=self.rkf, n_jobs=-1)\n",
    "        return -np.mean(scores)\n",
    "\n",
    "    # Optimization function\n",
    "    def run(self, model_name, n_trials):\n",
    "        mapping = {\n",
    "            \"xgb\": self.objective_xgb,\n",
    "            \"gb\": self.objective_gb,\n",
    "            \"lgb\": self.objective_lgb,\n",
    "            'cat':self.objective_cat\n",
    "        }\n",
    "        \n",
    "        study = optuna.create_study(direction=\"minimize\")\n",
    "        study.optimize(mapping[model_name], n_trials=n_trials, n_jobs=-1)\n",
    "        return study"
   ]
  },
  {
   "cell_type": "markdown",
   "id": "51d68dab",
   "metadata": {},
   "source": [
    "---"
   ]
  },
  {
   "cell_type": "markdown",
   "id": "236e1d1b",
   "metadata": {},
   "source": [
    "## Model Inference and CV Scores\n",
    "\n",
    "In this section, I did 10, 20, and 50 trials over these 4 models and found that XGBoost & Catboost were consistently performing better on leaderboard scores. The goal of this section is to make sure that an improvement in CV scores also reflects well on the leaderboard scores. If that doesn't happen, then the model(s) is overfitting the training set and is unable to generalize well."
   ]
  },
  {
   "cell_type": "markdown",
   "id": "d19488a7",
   "metadata": {},
   "source": [
    "**Please note:** I have omitted the tuned hyperparameters output and iterations from the notebooks since this work is on a public repository and wanted to avoid misuse of the same in the hackathon. The tuned parameters are stored by me locally for reproducibility and I can provide it privately upon request."
   ]
  },
  {
   "cell_type": "code",
   "execution_count": 58,
   "id": "73da3d21",
   "metadata": {},
   "outputs": [],
   "source": [
    "# tuner = ModelTuner(X_ohe, y_ohe)\n",
    "# study_gb  = tuner.run(model_name=\"gb\", n_trials=50)\n",
    "# study_lgb = tuner.run(model_name=\"lgb\", n_trials=50)\n",
    "# study_xgb = tuner.run(model_name=\"xgb\", n_trials=50)"
   ]
  },
  {
   "cell_type": "code",
   "execution_count": null,
   "id": "b2b996b5",
   "metadata": {},
   "outputs": [
    {
     "name": "stdout",
     "output_type": "stream",
     "text": [
      "BEST CV SCORE for GradientBoosting: 1082.34\n"
     ]
    }
   ],
   "source": [
    "print(f'BEST CV SCORE for GradientBoosting: {study_gb.best_value:0.2f}')"
   ]
  },
  {
   "cell_type": "code",
   "execution_count": 57,
   "id": "3ba3977d",
   "metadata": {},
   "outputs": [],
   "source": [
    "# gb_best_params = study_gb.best_params\n",
    "# gb_best_params['random_state'] = 42\n",
    "\n",
    "# final_model = GradientBoostingRegressor(**gb_best_params)\n",
    "# final_model.fit(X_ohe,y_ohe)\n",
    "# y_preds1 = final_model.predict(df_test_ohe)\n",
    "\n",
    "# submit = test[['Item_Identifier','Outlet_Identifier']].copy()\n",
    "# submit['Item_Outlet_Sales'] = y_preds1\n",
    "# submit.Item_Outlet_Sales = submit.Item_Outlet_Sales.clip(lower=0) # Clipping lower bound to 0 since sales cannot be < 0\n",
    "# submit.to_csv('submission.csv',index=False)"
   ]
  },
  {
   "cell_type": "code",
   "execution_count": null,
   "id": "4320abe0",
   "metadata": {},
   "outputs": [
    {
     "name": "stdout",
     "output_type": "stream",
     "text": [
      "BEST CV SCORE for LightGBM: 1079.56\n"
     ]
    }
   ],
   "source": [
    "print(f'BEST CV SCORE for LightGBM: {study_lgb.best_value:0.2f}')"
   ]
  },
  {
   "cell_type": "code",
   "execution_count": 56,
   "id": "beb17491",
   "metadata": {},
   "outputs": [],
   "source": [
    "# lgb_best_params = study_lgb.best_params\n",
    "# lgb_best_params['objective'] ='regression'\n",
    "# lgb_best_params['metric'] = 'rmse'\n",
    "# lgb_best_params['random_state'] = 42\n",
    "# lgb_best_params['n_jobs'] = -1\n",
    "# lgb_best_params['verbosity'] = -1\n",
    "# lgb_best_params['boosting_type'] = 'gbdt'\n",
    "\n",
    "# final_model = lgb.LGBMRegressor(**lgb_best_params)\n",
    "# final_model.fit(X_ohe,y_ohe)\n",
    "# y_preds2 = final_model.predict(df_test_ohe)\n",
    "\n",
    "# submit = test[['Item_Identifier','Outlet_Identifier']].copy()\n",
    "# submit['Item_Outlet_Sales'] = y_preds2\n",
    "# submit.Item_Outlet_Sales = submit.Item_Outlet_Sales.clip(lower=0) # Clipping lower bound to 0 since sales cannot be < 0\n",
    "# submit.to_csv('submission.csv',index=False)"
   ]
  },
  {
   "cell_type": "code",
   "execution_count": null,
   "id": "bbe927f1",
   "metadata": {},
   "outputs": [
    {
     "name": "stdout",
     "output_type": "stream",
     "text": [
      "BEST CV SCORE for XGBoost: 1080.87\n"
     ]
    }
   ],
   "source": [
    "print(f'BEST CV SCORE for XGBoost: {study_xgb.best_value:0.2f}')"
   ]
  },
  {
   "cell_type": "code",
   "execution_count": 55,
   "id": "c4be3575",
   "metadata": {},
   "outputs": [],
   "source": [
    "# xgb_best_params = study_xgb.best_params\n",
    "# xgb_best_params['objective'] ='reg:squarederror'\n",
    "# xgb_best_params['eval_metric'] = 'rmse'\n",
    "# xgb_best_params['random_state'] = 42\n",
    "# xgb_best_params['n_jobs'] = -1\n",
    "\n",
    "# final_model = xgb.XGBRegressor(**xgb_best_params)\n",
    "# final_model.fit(X_ohe,y_ohe)\n",
    "# y_preds3 = final_model.predict(df_test_ohe)\n",
    "\n",
    "# submit = test[['Item_Identifier','Outlet_Identifier']].copy()\n",
    "# submit['Item_Outlet_Sales'] = y_preds3\n",
    "# submit.Item_Outlet_Sales = submit.Item_Outlet_Sales.clip(lower=0) # Clipping lower bound to 0 since sales cannot be < 0\n",
    "# submit.to_csv('submission.csv',index=False)"
   ]
  },
  {
   "cell_type": "markdown",
   "id": "1872297e",
   "metadata": {},
   "source": [
    "Now it's time to evaluate Catboost Regressor. This model can handle the categorical columns intrincsically and thus it doesn't require us to do one-hot encoding. This makes it possible to reduce the number of dimensions in the data, which may lead to better scores. The downside of this model is that it takes a very long time to train and thus hyperparameter tuning could be particularly difficult on this model. To deal with that, we will reduce the number of repeats to just 2 from 5 in our model tuner class."
   ]
  },
  {
   "cell_type": "code",
   "execution_count": 54,
   "id": "815388f8",
   "metadata": {},
   "outputs": [],
   "source": [
    "# tuner = ModelTuner(X_cat, y_cat, n_splits=2)\n",
    "# study_cat = tuner.run(model_name=\"cat\", n_trials=50)"
   ]
  },
  {
   "cell_type": "code",
   "execution_count": null,
   "id": "788b3501",
   "metadata": {},
   "outputs": [
    {
     "name": "stdout",
     "output_type": "stream",
     "text": [
      "BEST CV SCORE for CatBoost: 1080.21\n"
     ]
    }
   ],
   "source": [
    "print(f'BEST CV SCORE for CatBoost: {study_cat.best_value:0.2f}')"
   ]
  },
  {
   "cell_type": "code",
   "execution_count": 53,
   "id": "d923a2bf",
   "metadata": {},
   "outputs": [],
   "source": [
    "# cat_cols = ['Item_Fat_Content','Outlet_Identifier','Outlet_Size','Outlet_Location_Type','Outlet_Type','Item_ID','Item_MRP_Group']\n",
    "\n",
    "# cat_best_params = study_cat.best_params\n",
    "# cat_best_params['loss_function'] = 'rmse'\n",
    "# cat_best_params['random_state'] = 42\n",
    "\n",
    "# final_model = CatBoostRegressor(**cat_best_params,cat_features=cat_cols)\n",
    "# final_model.fit(X_cat,y_cat)\n",
    "# y_preds4 = final_model.predict(df_test_cat)\n",
    "\n",
    "# submit = test[['Item_Identifier','Outlet_Identifier']].copy()\n",
    "# submit['Item_Outlet_Sales'] = y_preds4\n",
    "# submit.Item_Outlet_Sales = submit.Item_Outlet_Sales.clip(lower=0) # Clipping lower bound to 0 since sales cannot be < 0\n",
    "# submit.to_csv('submission.csv',index=False)"
   ]
  },
  {
   "cell_type": "markdown",
   "id": "dc528083",
   "metadata": {},
   "source": [
    "Observations:\n",
    "1. LightGBM has the best CV scores followed by Catboost and XGBoost with GradientBoost being the worst of them\n",
    "2. Since CV scores are not necessarily representative of how the leaderboard will look, the submissions were made for all 4 models with 10, 20 and 50 trials of hyperparameter tuning.\n",
    "3. From these trials, XGBoost and CatBoost were found to be performing well in terms of LB scores.\n",
    "\n",
    "Thus, XGBoost and CatBoost were selected for additional model training and score improvement. On top of that, we will do some additional feature engineering and transformations in the EDA notebook in conjuction with the rigourous model training to improve the score."
   ]
  },
  {
   "cell_type": "markdown",
   "id": "1b3264d0",
   "metadata": {},
   "source": [
    "---"
   ]
  },
  {
   "cell_type": "markdown",
   "id": "aca64e82",
   "metadata": {},
   "source": [
    "## Additional Optimization\n",
    "\n",
    "From our inferences, we have concluded that XGBoost is not only faster to train but also ends up giving a better leaderboard score. On the other hand CatBoost is also giving good LB scores but is much difficult to train. Now we try to improve the hyperparameters further with higher number of trials.\n",
    "\n",
    "Since this is an iterative process, we will not only perform hyperparameter tuning but also do **addtional feature engineering** in our EDA notebook to see what works and what doesn't."
   ]
  },
  {
   "cell_type": "code",
   "execution_count": 52,
   "id": "82eca567",
   "metadata": {},
   "outputs": [],
   "source": [
    "# tuner = ModelTuner(X_ohe, y_ohe, n_repeats=2)\n",
    "# study_xgb = tuner.run(model_name=\"xgb\", n_trials=200)"
   ]
  },
  {
   "cell_type": "code",
   "execution_count": 51,
   "id": "308f51ba",
   "metadata": {},
   "outputs": [],
   "source": [
    "# xgb_best_params = study_xgb.best_params\n",
    "# xgb_best_params['objective'] ='reg:squarederror'\n",
    "# xgb_best_params['eval_metric'] = 'rmse'\n",
    "# xgb_best_params['random_state'] = 42\n",
    "# xgb_best_params['n_jobs'] = -1\n",
    "\n",
    "# final_model = xgb.XGBRegressor(**xgb_best_params)\n",
    "# final_model.fit(X_ohe,y_ohe)\n",
    "# y_preds_xgb = final_model.predict(df_test_ohe)\n",
    "\n",
    "# submit = test[['Item_Identifier','Outlet_Identifier']].copy()\n",
    "# submit['Item_Outlet_Sales'] = y_preds_xgb\n",
    "# submit.Item_Outlet_Sales = submit.Item_Outlet_Sales.clip(lower=0) # Clipping lower bound to 0 since sales cannot be < 0\n",
    "# submit.to_csv('submission.csv',index=False)"
   ]
  },
  {
   "cell_type": "markdown",
   "id": "1e6a086e",
   "metadata": {},
   "source": [
    "After numerous trials, loads of feature engineering (adding/removing/modifying) features from the dataset, I am getting a leaderboard RMSE score of roughly 1146 putting me at a RANK of ***259***.\n",
    "\n",
    "Let's try the same rigourous hyperparameter tuning on CatBoost with our final feature engineering columns selected in the EDA notebook."
   ]
  },
  {
   "cell_type": "code",
   "execution_count": 50,
   "id": "68c1fd81",
   "metadata": {},
   "outputs": [],
   "source": [
    "# tuner = ModelTuner(X_ohe, y_ohe, n_repeats=2)\n",
    "# study_cat = tuner.run(model_name=\"cat\", n_trials=200)"
   ]
  },
  {
   "cell_type": "code",
   "execution_count": 49,
   "id": "2fb69ede",
   "metadata": {},
   "outputs": [],
   "source": [
    "# cat_best_params = study_cat.best_params\n",
    "# cat_best_params['loss_function'] = 'rmse'\n",
    "# cat_best_params['random_state'] = 42\n",
    "\n",
    "# final_model = CatBoostRegressor(**cat_best_params,cat_features=cat_cols)\n",
    "# final_model.fit(X_cat,y_cat)\n",
    "# y_preds_cat = final_model.predict(df_test_cat)\n",
    "\n",
    "# submit = test[['Item_Identifier','Outlet_Identifier']].copy()\n",
    "# submit['Item_Outlet_Sales'] = y_preds_cat\n",
    "# submit.Item_Outlet_Sales = submit.Item_Outlet_Sales.clip(lower=0) # Clipping lower bound to 0 since sales cannot be < 0\n",
    "# submit.to_csv('submission.csv',index=False)"
   ]
  },
  {
   "cell_type": "markdown",
   "id": "4402d8d2",
   "metadata": {},
   "source": [
    "**Exploring output clipping**\n",
    "\n",
    "We know from our EDA that the Item_Sales_Output had some outliers present in the data. The presense of outliers during model training can make the model predict erroneous values. Thus it is advisable to limit the model output to a sensible range that stops the predictions to be wildly different, especially on the higher side."
   ]
  },
  {
   "cell_type": "code",
   "execution_count": 25,
   "id": "515f72ae",
   "metadata": {},
   "outputs": [
    {
     "data": {
      "text/plain": [
       "<Axes: ylabel='Frequency'>"
      ]
     },
     "execution_count": 25,
     "metadata": {},
     "output_type": "execute_result"
    },
    {
     "data": {
      "image/png": "[encoded data removed]",
      "text/plain": [
       "<Figure size 640x480 with 1 Axes>"
      ]
     },
     "metadata": {},
     "output_type": "display_data"
    }
   ],
   "source": [
    "train = pd.read_csv('../data/train.csv')\n",
    "train.Item_Outlet_Sales.plot(kind='hist',bins=100)"
   ]
  },
  {
   "cell_type": "code",
   "execution_count": 26,
   "id": "c921d874",
   "metadata": {},
   "outputs": [
    {
     "data": {
      "text/plain": [
       "np.float64(33.29)"
      ]
     },
     "execution_count": 26,
     "metadata": {},
     "output_type": "execute_result"
    }
   ],
   "source": [
    "# This was the minimum number of sales seen in the training set. We can keep this as a lower limit\n",
    "train.Item_Outlet_Sales.min()"
   ]
  },
  {
   "cell_type": "code",
   "execution_count": 27,
   "id": "031da00e",
   "metadata": {},
   "outputs": [
    {
     "data": {
      "text/plain": [
       "np.float64(5522.811)"
      ]
     },
     "execution_count": 27,
     "metadata": {},
     "output_type": "execute_result"
    }
   ],
   "source": [
    "# 95%ile is a good limit to clip the data to remove the effect of outliers on the ML model\n",
    "train.Item_Outlet_Sales.quantile(0.95)"
   ]
  },
  {
   "cell_type": "code",
   "execution_count": null,
   "id": "7f612830",
   "metadata": {},
   "outputs": [],
   "source": [
    "submit = test[['Item_Identifier','Outlet_Identifier']].copy()\n",
    "submit['Item_Outlet_Sales'] = y_preds_cat\n",
    "submit.Item_Outlet_Sales = submit.Item_Outlet_Sales.clip(lower=train.Item_Outlet_Sales.min(),\n",
    "                                                         upper=train.Item_Outlet_Sales.quantile(0.95))\n",
    "submit.to_csv('submission.csv',index=False)"
   ]
  },
  {
   "cell_type": "markdown",
   "id": "c242b86f",
   "metadata": {},
   "source": [
    "Clipping the data with statistically backed values has given is an additional improvement on leaderboard scores. Thus finally with loads of trials, feature engineering and using clipping, we are able to achieve a RMSE of **~1143.45**"
   ]
  },
  {
   "cell_type": "markdown",
   "id": "ce9db814",
   "metadata": {},
   "source": [
    "As a final effort to improve the model score, we can fine tune the hyperparameters. After manually increasing the n_estimators from 1000 to 1500, we get an additional RMSE boost with the final score now being **~1140.88**\n",
    "\n",
    "This puts us on a final rank of **44** out of 53k registered participants."
   ]
  },
  {
   "cell_type": "markdown",
   "id": "53ef38a9",
   "metadata": {},
   "source": [
    "## Future Scope\n",
    "\n",
    "I have tried model ensembling between the above 4 model but it did not seem to improve the error score. The reason behind it is that I'm using similar types of models that learn in a somewhat similar way (all tree-based)\n",
    "\n",
    "I think a future scope of this hackathon could be to ensemble different types of regressors --> Linear, Tree-based, SVM, DNNs\n",
    "\n",
    "On top of that, there are ***stacking and blending*** methods that use the models' outputs and train another ***meta-learner model*** which can find the best way to ensemble the outputs of these models."
   ]
  }
 ],
 "metadata": {
  "kernelspec": {
   "display_name": ".venv",
   "language": "python",
   "name": "python3"
  },
  "language_info": {
   "codemirror_mode": {
    "name": "ipython",
    "version": 3
   },
   "file_extension": ".py",
   "mimetype": "text/x-python",
   "name": "python",
   "nbconvert_exporter": "python",
   "pygments_lexer": "ipython3",
   "version": "3.13.5"
  }
 },
 "nbformat": 4,
 "nbformat_minor": 5
}
