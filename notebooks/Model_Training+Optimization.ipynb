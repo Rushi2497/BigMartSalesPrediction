{
 "cells": [
  {
   "cell_type": "markdown",
   "id": "3fb7c022",
   "metadata": {},
   "source": [
    "# Big Mart Sales Prediction\n",
    "\n",
    "<u>**Assignment Objective**</u>: Given a training dataset (~8k rows), predict product sales for the given test dataset (~5k rows)\n",
    "\n",
    "<u>**Notebook Objective**</u>: Explore different ML models, tune hyperparameters, optimize the best performing model further\n",
    "\n",
    "**Content**:\n",
    "1. Data Import\n",
    "2. Model Tuning Setup\n",
    "3. Model Inference and CV Scores\n",
    "4. Additional Optimization"
   ]
  },
  {
   "cell_type": "code",
   "execution_count": 1,
   "id": "01cd7455",
   "metadata": {},
   "outputs": [],
   "source": [
    "import optuna\n",
    "import numpy as np\n",
    "import pandas as pd\n",
    "import xgboost as xgb\n",
    "import lightgbm as lgb\n",
    "from sklearn.ensemble import GradientBoostingRegressor\n",
    "from sklearn.model_selection import RepeatedKFold, cross_val_score\n",
    "from sklearn.metrics import make_scorer, mean_squared_error"
   ]
  },
  {
   "cell_type": "markdown",
   "id": "72db3b4d",
   "metadata": {},
   "source": [
    "## Data Import"
   ]
  },
  {
   "cell_type": "code",
   "execution_count": 2,
   "id": "fa1dab92",
   "metadata": {},
   "outputs": [],
   "source": [
    "df_train = pd.read_csv('../data/df_train.csv',index_col=0)\n",
    "df_test = pd.read_csv('../data/df_test.csv',index_col=0)\n",
    "\n",
    "# Importing original test data set to get the item and outler IDs\n",
    "test = pd.read_csv('../data/test.csv')"
   ]
  },
  {
   "cell_type": "code",
   "execution_count": 3,
   "id": "58f0ccbf",
   "metadata": {},
   "outputs": [],
   "source": [
    "X = df_train.drop(['Item_Outlet_Sales'],axis=1)\n",
    "y = df_train['Item_Outlet_Sales']"
   ]
  },
  {
   "cell_type": "code",
   "execution_count": 4,
   "id": "32424deb",
   "metadata": {},
   "outputs": [
    {
     "data": {
      "application/vnd.microsoft.datawrangler.viewer.v0+json": {
       "columns": [
        {
         "name": "index",
         "rawType": "int64",
         "type": "integer"
        },
        {
         "name": "Item_Weight",
         "rawType": "float64",
         "type": "float"
        },
        {
         "name": "Item_Fat_Content",
         "rawType": "int64",
         "type": "integer"
        },
        {
         "name": "Item_Visibility",
         "rawType": "float64",
         "type": "float"
        },
        {
         "name": "Item_MRP",
         "rawType": "float64",
         "type": "float"
        },
        {
         "name": "Outlet_Size",
         "rawType": "int64",
         "type": "integer"
        },
        {
         "name": "Outlet_Location_Type",
         "rawType": "int64",
         "type": "integer"
        },
        {
         "name": "Outlet_Type",
         "rawType": "int64",
         "type": "integer"
        },
        {
         "name": "Item_ID",
         "rawType": "int64",
         "type": "integer"
        },
        {
         "name": "Outlet_Age",
         "rawType": "int64",
         "type": "integer"
        },
        {
         "name": "price/weight",
         "rawType": "float64",
         "type": "float"
        },
        {
         "name": "Outlet_Identifier_HIGH",
         "rawType": "int64",
         "type": "integer"
        },
        {
         "name": "Outlet_Identifier_LOW",
         "rawType": "int64",
         "type": "integer"
        },
        {
         "name": "Outlet_Identifier_MED",
         "rawType": "int64",
         "type": "integer"
        },
        {
         "name": "Item_MRP_Group_A",
         "rawType": "int64",
         "type": "integer"
        },
        {
         "name": "Item_MRP_Group_B",
         "rawType": "int64",
         "type": "integer"
        },
        {
         "name": "Item_MRP_Group_C",
         "rawType": "int64",
         "type": "integer"
        },
        {
         "name": "Item_MRP_Group_D",
         "rawType": "int64",
         "type": "integer"
        }
       ],
       "ref": "cc077614-7de7-4235-b740-5a14aeca82f7",
       "rows": [
        [
         "0",
         "9.3",
         "0",
         "-4.132214605540695",
         "249.8092",
         "1",
         "1",
         "1",
         "2",
         "14",
         "26.86120430107527",
         "0",
         "0",
         "1",
         "0",
         "0",
         "0",
         "1"
        ],
        [
         "1",
         "5.92",
         "1",
         "-3.9487795252013376",
         "48.2692",
         "1",
         "3",
         "2",
         "0",
         "4",
         "8.15358108108108",
         "0",
         "0",
         "1",
         "1",
         "0",
         "0",
         "0"
        ],
        [
         "2",
         "17.5",
         "0",
         "-4.088755708997878",
         "141.618",
         "1",
         "1",
         "1",
         "2",
         "14",
         "8.092457142857143",
         "0",
         "0",
         "1",
         "0",
         "0",
         "1",
         "0"
        ],
        [
         "3",
         "19.2",
         "1",
         "-4.181624629851282",
         "182.095",
         "0",
         "3",
         "0",
         "2",
         "15",
         "9.484114583333334",
         "0",
         "1",
         "0",
         "0",
         "0",
         "1",
         "0"
        ],
        [
         "4",
         "8.93",
         "0",
         "-4.81809698154736",
         "53.8614",
         "2",
         "3",
         "1",
         "1",
         "26",
         "6.031511758118701",
         "0",
         "0",
         "1",
         "1",
         "0",
         "0",
         "0"
        ]
       ],
       "shape": {
        "columns": 17,
        "rows": 5
       }
      },
      "text/html": [
       "<div>\n",
       "<style scoped>\n",
       "    .dataframe tbody tr th:only-of-type {\n",
       "        vertical-align: middle;\n",
       "    }\n",
       "\n",
       "    .dataframe tbody tr th {\n",
       "        vertical-align: top;\n",
       "    }\n",
       "\n",
       "    .dataframe thead th {\n",
       "        text-align: right;\n",
       "    }\n",
       "</style>\n",
       "<table border=\"1\" class=\"dataframe\">\n",
       "  <thead>\n",
       "    <tr style=\"text-align: right;\">\n",
       "      <th></th>\n",
       "      <th>Item_Weight</th>\n",
       "      <th>Item_Fat_Content</th>\n",
       "      <th>Item_Visibility</th>\n",
       "      <th>Item_MRP</th>\n",
       "      <th>Outlet_Size</th>\n",
       "      <th>Outlet_Location_Type</th>\n",
       "      <th>Outlet_Type</th>\n",
       "      <th>Item_ID</th>\n",
       "      <th>Outlet_Age</th>\n",
       "      <th>price/weight</th>\n",
       "      <th>Outlet_Identifier_HIGH</th>\n",
       "      <th>Outlet_Identifier_LOW</th>\n",
       "      <th>Outlet_Identifier_MED</th>\n",
       "      <th>Item_MRP_Group_A</th>\n",
       "      <th>Item_MRP_Group_B</th>\n",
       "      <th>Item_MRP_Group_C</th>\n",
       "      <th>Item_MRP_Group_D</th>\n",
       "    </tr>\n",
       "  </thead>\n",
       "  <tbody>\n",
       "    <tr>\n",
       "      <th>0</th>\n",
       "      <td>9.30</td>\n",
       "      <td>0</td>\n",
       "      <td>-4.132215</td>\n",
       "      <td>249.8092</td>\n",
       "      <td>1</td>\n",
       "      <td>1</td>\n",
       "      <td>1</td>\n",
       "      <td>2</td>\n",
       "      <td>14</td>\n",
       "      <td>26.861204</td>\n",
       "      <td>0</td>\n",
       "      <td>0</td>\n",
       "      <td>1</td>\n",
       "      <td>0</td>\n",
       "      <td>0</td>\n",
       "      <td>0</td>\n",
       "      <td>1</td>\n",
       "    </tr>\n",
       "    <tr>\n",
       "      <th>1</th>\n",
       "      <td>5.92</td>\n",
       "      <td>1</td>\n",
       "      <td>-3.948780</td>\n",
       "      <td>48.2692</td>\n",
       "      <td>1</td>\n",
       "      <td>3</td>\n",
       "      <td>2</td>\n",
       "      <td>0</td>\n",
       "      <td>4</td>\n",
       "      <td>8.153581</td>\n",
       "      <td>0</td>\n",
       "      <td>0</td>\n",
       "      <td>1</td>\n",
       "      <td>1</td>\n",
       "      <td>0</td>\n",
       "      <td>0</td>\n",
       "      <td>0</td>\n",
       "    </tr>\n",
       "    <tr>\n",
       "      <th>2</th>\n",
       "      <td>17.50</td>\n",
       "      <td>0</td>\n",
       "      <td>-4.088756</td>\n",
       "      <td>141.6180</td>\n",
       "      <td>1</td>\n",
       "      <td>1</td>\n",
       "      <td>1</td>\n",
       "      <td>2</td>\n",
       "      <td>14</td>\n",
       "      <td>8.092457</td>\n",
       "      <td>0</td>\n",
       "      <td>0</td>\n",
       "      <td>1</td>\n",
       "      <td>0</td>\n",
       "      <td>0</td>\n",
       "      <td>1</td>\n",
       "      <td>0</td>\n",
       "    </tr>\n",
       "    <tr>\n",
       "      <th>3</th>\n",
       "      <td>19.20</td>\n",
       "      <td>1</td>\n",
       "      <td>-4.181625</td>\n",
       "      <td>182.0950</td>\n",
       "      <td>0</td>\n",
       "      <td>3</td>\n",
       "      <td>0</td>\n",
       "      <td>2</td>\n",
       "      <td>15</td>\n",
       "      <td>9.484115</td>\n",
       "      <td>0</td>\n",
       "      <td>1</td>\n",
       "      <td>0</td>\n",
       "      <td>0</td>\n",
       "      <td>0</td>\n",
       "      <td>1</td>\n",
       "      <td>0</td>\n",
       "    </tr>\n",
       "    <tr>\n",
       "      <th>4</th>\n",
       "      <td>8.93</td>\n",
       "      <td>0</td>\n",
       "      <td>-4.818097</td>\n",
       "      <td>53.8614</td>\n",
       "      <td>2</td>\n",
       "      <td>3</td>\n",
       "      <td>1</td>\n",
       "      <td>1</td>\n",
       "      <td>26</td>\n",
       "      <td>6.031512</td>\n",
       "      <td>0</td>\n",
       "      <td>0</td>\n",
       "      <td>1</td>\n",
       "      <td>1</td>\n",
       "      <td>0</td>\n",
       "      <td>0</td>\n",
       "      <td>0</td>\n",
       "    </tr>\n",
       "  </tbody>\n",
       "</table>\n",
       "</div>"
      ],
      "text/plain": [
       "   Item_Weight  Item_Fat_Content  Item_Visibility  Item_MRP  Outlet_Size  \\\n",
       "0         9.30                 0        -4.132215  249.8092            1   \n",
       "1         5.92                 1        -3.948780   48.2692            1   \n",
       "2        17.50                 0        -4.088756  141.6180            1   \n",
       "3        19.20                 1        -4.181625  182.0950            0   \n",
       "4         8.93                 0        -4.818097   53.8614            2   \n",
       "\n",
       "   Outlet_Location_Type  Outlet_Type  Item_ID  Outlet_Age  price/weight  \\\n",
       "0                     1            1        2          14     26.861204   \n",
       "1                     3            2        0           4      8.153581   \n",
       "2                     1            1        2          14      8.092457   \n",
       "3                     3            0        2          15      9.484115   \n",
       "4                     3            1        1          26      6.031512   \n",
       "\n",
       "   Outlet_Identifier_HIGH  Outlet_Identifier_LOW  Outlet_Identifier_MED  \\\n",
       "0                       0                      0                      1   \n",
       "1                       0                      0                      1   \n",
       "2                       0                      0                      1   \n",
       "3                       0                      1                      0   \n",
       "4                       0                      0                      1   \n",
       "\n",
       "   Item_MRP_Group_A  Item_MRP_Group_B  Item_MRP_Group_C  Item_MRP_Group_D  \n",
       "0                 0                 0                 0                 1  \n",
       "1                 1                 0                 0                 0  \n",
       "2                 0                 0                 1                 0  \n",
       "3                 0                 0                 1                 0  \n",
       "4                 1                 0                 0                 0  "
      ]
     },
     "execution_count": 4,
     "metadata": {},
     "output_type": "execute_result"
    }
   ],
   "source": [
    "X.head()"
   ]
  },
  {
   "cell_type": "code",
   "execution_count": 5,
   "id": "5f400ffc",
   "metadata": {},
   "outputs": [
    {
     "data": {
      "application/vnd.microsoft.datawrangler.viewer.v0+json": {
       "columns": [
        {
         "name": "index",
         "rawType": "int64",
         "type": "integer"
        },
        {
         "name": "Item_Weight",
         "rawType": "float64",
         "type": "float"
        },
        {
         "name": "Item_Fat_Content",
         "rawType": "int64",
         "type": "integer"
        },
        {
         "name": "Item_Visibility",
         "rawType": "float64",
         "type": "float"
        },
        {
         "name": "Item_MRP",
         "rawType": "float64",
         "type": "float"
        },
        {
         "name": "Outlet_Size",
         "rawType": "int64",
         "type": "integer"
        },
        {
         "name": "Outlet_Location_Type",
         "rawType": "int64",
         "type": "integer"
        },
        {
         "name": "Outlet_Type",
         "rawType": "int64",
         "type": "integer"
        },
        {
         "name": "Item_ID",
         "rawType": "int64",
         "type": "integer"
        },
        {
         "name": "Outlet_Age",
         "rawType": "int64",
         "type": "integer"
        },
        {
         "name": "price/weight",
         "rawType": "float64",
         "type": "float"
        },
        {
         "name": "Outlet_Identifier_HIGH",
         "rawType": "int64",
         "type": "integer"
        },
        {
         "name": "Outlet_Identifier_LOW",
         "rawType": "int64",
         "type": "integer"
        },
        {
         "name": "Outlet_Identifier_MED",
         "rawType": "int64",
         "type": "integer"
        },
        {
         "name": "Item_MRP_Group_A",
         "rawType": "int64",
         "type": "integer"
        },
        {
         "name": "Item_MRP_Group_B",
         "rawType": "int64",
         "type": "integer"
        },
        {
         "name": "Item_MRP_Group_C",
         "rawType": "int64",
         "type": "integer"
        },
        {
         "name": "Item_MRP_Group_D",
         "rawType": "int64",
         "type": "integer"
        }
       ],
       "ref": "d955e129-e693-401f-912a-06c023af8503",
       "rows": [
        [
         "0",
         "20.75",
         "0",
         "-4.884244610760679",
         "107.8622",
         "1",
         "1",
         "1",
         "2",
         "14",
         "5.198178313253012",
         "0",
         "0",
         "1",
         "0",
         "1",
         "0",
         "0"
        ],
        [
         "1",
         "8.3",
         "1",
         "-3.2589773237994173",
         "87.3198",
         "0",
         "2",
         "1",
         "2",
         "6",
         "10.5204578313253",
         "0",
         "0",
         "1",
         "0",
         "1",
         "0",
         "0"
        ],
        [
         "2",
         "14.6",
         "0",
         "-2.3068450738415445",
         "241.7538",
         "0",
         "3",
         "0",
         "1",
         "15",
         "16.558479452054797",
         "0",
         "1",
         "0",
         "0",
         "0",
         "0",
         "1"
        ],
        [
         "3",
         "7.315",
         "0",
         "-4.174141755036877",
         "155.034",
         "0",
         "2",
         "1",
         "2",
         "6",
         "21.193984962406013",
         "0",
         "0",
         "1",
         "0",
         "0",
         "1",
         "0"
        ],
        [
         "4",
         "13.6",
         "1",
         "-2.1320045765836384",
         "234.23",
         "1",
         "3",
         "3",
         "2",
         "28",
         "17.22279411764706",
         "1",
         "0",
         "0",
         "0",
         "0",
         "0",
         "1"
        ]
       ],
       "shape": {
        "columns": 17,
        "rows": 5
       }
      },
      "text/html": [
       "<div>\n",
       "<style scoped>\n",
       "    .dataframe tbody tr th:only-of-type {\n",
       "        vertical-align: middle;\n",
       "    }\n",
       "\n",
       "    .dataframe tbody tr th {\n",
       "        vertical-align: top;\n",
       "    }\n",
       "\n",
       "    .dataframe thead th {\n",
       "        text-align: right;\n",
       "    }\n",
       "</style>\n",
       "<table border=\"1\" class=\"dataframe\">\n",
       "  <thead>\n",
       "    <tr style=\"text-align: right;\">\n",
       "      <th></th>\n",
       "      <th>Item_Weight</th>\n",
       "      <th>Item_Fat_Content</th>\n",
       "      <th>Item_Visibility</th>\n",
       "      <th>Item_MRP</th>\n",
       "      <th>Outlet_Size</th>\n",
       "      <th>Outlet_Location_Type</th>\n",
       "      <th>Outlet_Type</th>\n",
       "      <th>Item_ID</th>\n",
       "      <th>Outlet_Age</th>\n",
       "      <th>price/weight</th>\n",
       "      <th>Outlet_Identifier_HIGH</th>\n",
       "      <th>Outlet_Identifier_LOW</th>\n",
       "      <th>Outlet_Identifier_MED</th>\n",
       "      <th>Item_MRP_Group_A</th>\n",
       "      <th>Item_MRP_Group_B</th>\n",
       "      <th>Item_MRP_Group_C</th>\n",
       "      <th>Item_MRP_Group_D</th>\n",
       "    </tr>\n",
       "  </thead>\n",
       "  <tbody>\n",
       "    <tr>\n",
       "      <th>0</th>\n",
       "      <td>20.750</td>\n",
       "      <td>0</td>\n",
       "      <td>-4.884245</td>\n",
       "      <td>107.8622</td>\n",
       "      <td>1</td>\n",
       "      <td>1</td>\n",
       "      <td>1</td>\n",
       "      <td>2</td>\n",
       "      <td>14</td>\n",
       "      <td>5.198178</td>\n",
       "      <td>0</td>\n",
       "      <td>0</td>\n",
       "      <td>1</td>\n",
       "      <td>0</td>\n",
       "      <td>1</td>\n",
       "      <td>0</td>\n",
       "      <td>0</td>\n",
       "    </tr>\n",
       "    <tr>\n",
       "      <th>1</th>\n",
       "      <td>8.300</td>\n",
       "      <td>1</td>\n",
       "      <td>-3.258977</td>\n",
       "      <td>87.3198</td>\n",
       "      <td>0</td>\n",
       "      <td>2</td>\n",
       "      <td>1</td>\n",
       "      <td>2</td>\n",
       "      <td>6</td>\n",
       "      <td>10.520458</td>\n",
       "      <td>0</td>\n",
       "      <td>0</td>\n",
       "      <td>1</td>\n",
       "      <td>0</td>\n",
       "      <td>1</td>\n",
       "      <td>0</td>\n",
       "      <td>0</td>\n",
       "    </tr>\n",
       "    <tr>\n",
       "      <th>2</th>\n",
       "      <td>14.600</td>\n",
       "      <td>0</td>\n",
       "      <td>-2.306845</td>\n",
       "      <td>241.7538</td>\n",
       "      <td>0</td>\n",
       "      <td>3</td>\n",
       "      <td>0</td>\n",
       "      <td>1</td>\n",
       "      <td>15</td>\n",
       "      <td>16.558479</td>\n",
       "      <td>0</td>\n",
       "      <td>1</td>\n",
       "      <td>0</td>\n",
       "      <td>0</td>\n",
       "      <td>0</td>\n",
       "      <td>0</td>\n",
       "      <td>1</td>\n",
       "    </tr>\n",
       "    <tr>\n",
       "      <th>3</th>\n",
       "      <td>7.315</td>\n",
       "      <td>0</td>\n",
       "      <td>-4.174142</td>\n",
       "      <td>155.0340</td>\n",
       "      <td>0</td>\n",
       "      <td>2</td>\n",
       "      <td>1</td>\n",
       "      <td>2</td>\n",
       "      <td>6</td>\n",
       "      <td>21.193985</td>\n",
       "      <td>0</td>\n",
       "      <td>0</td>\n",
       "      <td>1</td>\n",
       "      <td>0</td>\n",
       "      <td>0</td>\n",
       "      <td>1</td>\n",
       "      <td>0</td>\n",
       "    </tr>\n",
       "    <tr>\n",
       "      <th>4</th>\n",
       "      <td>13.600</td>\n",
       "      <td>1</td>\n",
       "      <td>-2.132005</td>\n",
       "      <td>234.2300</td>\n",
       "      <td>1</td>\n",
       "      <td>3</td>\n",
       "      <td>3</td>\n",
       "      <td>2</td>\n",
       "      <td>28</td>\n",
       "      <td>17.222794</td>\n",
       "      <td>1</td>\n",
       "      <td>0</td>\n",
       "      <td>0</td>\n",
       "      <td>0</td>\n",
       "      <td>0</td>\n",
       "      <td>0</td>\n",
       "      <td>1</td>\n",
       "    </tr>\n",
       "  </tbody>\n",
       "</table>\n",
       "</div>"
      ],
      "text/plain": [
       "   Item_Weight  Item_Fat_Content  Item_Visibility  Item_MRP  Outlet_Size  \\\n",
       "0       20.750                 0        -4.884245  107.8622            1   \n",
       "1        8.300                 1        -3.258977   87.3198            0   \n",
       "2       14.600                 0        -2.306845  241.7538            0   \n",
       "3        7.315                 0        -4.174142  155.0340            0   \n",
       "4       13.600                 1        -2.132005  234.2300            1   \n",
       "\n",
       "   Outlet_Location_Type  Outlet_Type  Item_ID  Outlet_Age  price/weight  \\\n",
       "0                     1            1        2          14      5.198178   \n",
       "1                     2            1        2           6     10.520458   \n",
       "2                     3            0        1          15     16.558479   \n",
       "3                     2            1        2           6     21.193985   \n",
       "4                     3            3        2          28     17.222794   \n",
       "\n",
       "   Outlet_Identifier_HIGH  Outlet_Identifier_LOW  Outlet_Identifier_MED  \\\n",
       "0                       0                      0                      1   \n",
       "1                       0                      0                      1   \n",
       "2                       0                      1                      0   \n",
       "3                       0                      0                      1   \n",
       "4                       1                      0                      0   \n",
       "\n",
       "   Item_MRP_Group_A  Item_MRP_Group_B  Item_MRP_Group_C  Item_MRP_Group_D  \n",
       "0                 0                 1                 0                 0  \n",
       "1                 0                 1                 0                 0  \n",
       "2                 0                 0                 0                 1  \n",
       "3                 0                 0                 1                 0  \n",
       "4                 0                 0                 0                 1  "
      ]
     },
     "execution_count": 5,
     "metadata": {},
     "output_type": "execute_result"
    }
   ],
   "source": [
    "df_test.head()"
   ]
  },
  {
   "cell_type": "code",
   "execution_count": 6,
   "id": "27689391",
   "metadata": {},
   "outputs": [
    {
     "data": {
      "application/vnd.microsoft.datawrangler.viewer.v0+json": {
       "columns": [
        {
         "name": "index",
         "rawType": "int64",
         "type": "integer"
        },
        {
         "name": "Item_Outlet_Sales",
         "rawType": "float64",
         "type": "float"
        }
       ],
       "ref": "c0266932-4fdc-429d-92c8-30b04ad3d374",
       "rows": [
        [
         "0",
         "3735.138"
        ],
        [
         "1",
         "443.4228"
        ],
        [
         "2",
         "2097.27"
        ],
        [
         "3",
         "732.38"
        ],
        [
         "4",
         "994.7052"
        ],
        [
         "5",
         "556.6088"
        ],
        [
         "6",
         "343.5528"
        ],
        [
         "7",
         "4022.7636"
        ],
        [
         "8",
         "1076.5986"
        ],
        [
         "9",
         "4710.535"
        ],
        [
         "10",
         "1516.0266"
        ],
        [
         "11",
         "2187.153"
        ],
        [
         "12",
         "1589.2646"
        ],
        [
         "13",
         "2145.2076"
        ],
        [
         "14",
         "1977.426"
        ],
        [
         "15",
         "1547.3192"
        ],
        [
         "16",
         "1621.8888"
        ],
        [
         "17",
         "718.3982"
        ],
        [
         "18",
         "2303.668"
        ],
        [
         "19",
         "2748.4224"
        ],
        [
         "20",
         "3775.086"
        ],
        [
         "21",
         "4064.0432"
        ],
        [
         "22",
         "1587.2672"
        ],
        [
         "23",
         "214.3876"
        ],
        [
         "24",
         "4078.025"
        ],
        [
         "25",
         "838.908"
        ],
        [
         "26",
         "1065.28"
        ],
        [
         "27",
         "308.9312"
        ],
        [
         "28",
         "178.4344"
        ],
        [
         "29",
         "125.8362"
        ],
        [
         "30",
         "163.7868"
        ],
        [
         "31",
         "2741.7644"
        ],
        [
         "32",
         "3068.0064"
        ],
        [
         "33",
         "2174.5028"
        ],
        [
         "34",
         "2085.2856"
        ],
        [
         "35",
         "3791.0652"
        ],
        [
         "36",
         "2797.6916"
        ],
        [
         "37",
         "1609.9044"
        ],
        [
         "38",
         "388.1614"
        ],
        [
         "39",
         "2180.495"
        ],
        [
         "40",
         "3435.528"
        ],
        [
         "41",
         "2150.534"
        ],
        [
         "42",
         "2527.3768"
        ],
        [
         "43",
         "6768.5228"
        ],
        [
         "44",
         "373.5138"
        ],
        [
         "45",
         "358.2004"
        ],
        [
         "46",
         "2428.8384"
        ],
        [
         "47",
         "5815.0972"
        ],
        [
         "48",
         "2576.646"
        ],
        [
         "49",
         "780.3176"
        ]
       ],
       "shape": {
        "columns": 1,
        "rows": 8523
       }
      },
      "text/plain": [
       "0       3735.1380\n",
       "1        443.4228\n",
       "2       2097.2700\n",
       "3        732.3800\n",
       "4        994.7052\n",
       "          ...    \n",
       "8518    2778.3834\n",
       "8519     549.2850\n",
       "8520    1193.1136\n",
       "8521    1845.5976\n",
       "8522     765.6700\n",
       "Name: Item_Outlet_Sales, Length: 8523, dtype: float64"
      ]
     },
     "execution_count": 6,
     "metadata": {},
     "output_type": "execute_result"
    }
   ],
   "source": [
    "y"
   ]
  },
  {
   "cell_type": "markdown",
   "id": "039ad6b9",
   "metadata": {},
   "source": [
    "---"
   ]
  },
  {
   "cell_type": "markdown",
   "id": "3647c664",
   "metadata": {},
   "source": [
    "## Model Tuning Setup\n",
    "\n",
    "We will create a model tuner class with in built hyperparameters for 3 models --> LightGBM, GradientBoost and XGBoost\n",
    "\n",
    "We will also create objective functions and a run function to optimize the hyperparameters using optuna.\n",
    "\n",
    "Other than that, we are using a **RepeatedKFold** cross-validation to get a robust model with low variance and good generalization."
   ]
  },
  {
   "cell_type": "code",
   "execution_count": 7,
   "id": "830e09c1",
   "metadata": {},
   "outputs": [],
   "source": [
    "class ModelTuner:\n",
    "    def __init__(self, X, y, n_splits=5, n_repeats=5, random_state=42):\n",
    "        self.X = X\n",
    "        self.y = y\n",
    "        self.rkf = RepeatedKFold(n_splits=n_splits, n_repeats=n_repeats, random_state=random_state) \n",
    "        self.rmse_scorer = make_scorer(self.rmse, greater_is_better=False)\n",
    "\n",
    "    # Since our metric is RMSE, we'll create a custom scorer here for it\n",
    "    @staticmethod\n",
    "    def rmse(y_true, y_pred):\n",
    "        return np.sqrt(mean_squared_error(y_true, y_pred))\n",
    "\n",
    "    # XGBoost Objective\n",
    "    def objective_xgb(self, trial):\n",
    "        params = {\n",
    "            \"objective\": \"reg:squarederror\",\n",
    "            \"eval_metric\": \"rmse\",\n",
    "            \"random_state\": 42,\n",
    "            \"n_jobs\": -1,\n",
    "            \"learning_rate\": trial.suggest_float(\"learning_rate\", 0.01, 0.2, log=True),\n",
    "            \"max_depth\": trial.suggest_int(\"max_depth\", 3, 8),\n",
    "            \"min_child_weight\": trial.suggest_int(\"min_child_weight\", 1, 10),\n",
    "            \"subsample\": trial.suggest_float(\"subsample\", 0.5, 1.0),\n",
    "            \"colsample_bytree\": trial.suggest_float(\"colsample_bytree\", 0.5, 1.0),\n",
    "            \"colsample_bylevel\": trial.suggest_float(\"colsample_bylevel\", 0.5, 1.0),\n",
    "            \"colsample_bynode\": trial.suggest_float(\"colsample_bynode\", 0.5, 1.0),\n",
    "            \"gamma\": trial.suggest_float(\"gamma\", 0, 5),\n",
    "            \"reg_alpha\": trial.suggest_float(\"reg_alpha\", 0.0, 5.0),\n",
    "            \"reg_lambda\": trial.suggest_float(\"reg_lambda\", 0.0, 10.0),\n",
    "            \"n_estimators\": trial.suggest_int(\"n_estimators\", 200, 1500),\n",
    "            \"max_leaves\": trial.suggest_int(\"max_leaves\", 4, 256)\n",
    "        }\n",
    "        model = xgb.XGBRegressor(**params)\n",
    "        scores = cross_val_score(model, self.X, self.y, scoring=self.rmse_scorer, cv=self.rkf, n_jobs=-1)\n",
    "        return -np.mean(scores)\n",
    "\n",
    "    # GradientBoost Objective\n",
    "    def objective_gb(self, trial):\n",
    "        params = {\n",
    "            'n_estimators': trial.suggest_int('n_estimators', 100, 1000),\n",
    "            'learning_rate': trial.suggest_float('learning_rate', 0.01, 0.2, log=True),\n",
    "            'max_depth': trial.suggest_int('max_depth', 3, 8),\n",
    "            'min_samples_split': trial.suggest_int('min_samples_split', 2, 30),\n",
    "            'min_samples_leaf': trial.suggest_int('min_samples_leaf', 1, 20),\n",
    "            'max_features': trial.suggest_categorical('max_features', ['sqrt', 'log2', None]),\n",
    "            'subsample': trial.suggest_float('subsample', 0.6, 1.0),\n",
    "            \"random_state\": 42,\n",
    "        }\n",
    "        model = GradientBoostingRegressor(**params)\n",
    "        scores = cross_val_score(model, self.X, self.y, scoring=self.rmse_scorer, cv=self.rkf, n_jobs=-1)\n",
    "        return -np.mean(scores)\n",
    "\n",
    "    # LightGBM Objective\n",
    "    def objective_lgb(self, trial):\n",
    "        params = {\n",
    "            \"objective\": \"regression\",\n",
    "            \"metric\": \"rmse\",\n",
    "            \"verbosity\": -1,\n",
    "            'boosting_type': 'gbdt',\n",
    "            \"random_state\": 42,\n",
    "            \"n_jobs\": -1,\n",
    "            'learning_rate': trial.suggest_float('learning_rate', 0.01, 0.2, log=True),\n",
    "            'num_leaves': trial.suggest_int('num_leaves', 15, 150),\n",
    "            'max_depth': trial.suggest_int('max_depth', 3, 10),\n",
    "            'min_child_samples': trial.suggest_int('min_child_samples', 5, 50),\n",
    "            'min_child_weight': trial.suggest_float('min_child_weight', 1e-3, 10.0, log=True),\n",
    "            'subsample': trial.suggest_float('subsample', 0.5, 1.0),\n",
    "            'colsample_bytree': trial.suggest_float('colsample_bytree', 0.5, 1.0),\n",
    "            'reg_alpha': trial.suggest_float('reg_alpha', 1e-5, 5.0, log=True),\n",
    "            'reg_lambda': trial.suggest_float('reg_lambda', 1e-5, 5.0, log=True),\n",
    "            'n_estimators': trial.suggest_int('n_estimators', 100, 1000)\n",
    "        }\n",
    "        model = lgb.LGBMRegressor(**params)\n",
    "        scores = cross_val_score(model, self.X, self.y, scoring=self.rmse_scorer, cv=self.rkf, n_jobs=-1)\n",
    "        return -np.mean(scores)\n",
    "\n",
    "    # Optimization function\n",
    "    def run(self, model_name, n_trials):\n",
    "        mapping = {\n",
    "            \"xgb\": self.objective_xgb,\n",
    "            \"gb\": self.objective_gb,\n",
    "            \"lgb\": self.objective_lgb,\n",
    "        }\n",
    "        if model_name not in mapping:\n",
    "            raise ValueError(\"Model name must be one of: 'xgb', 'gb', 'cat', 'lgb'\")\n",
    "        \n",
    "        study = optuna.create_study(direction=\"minimize\")\n",
    "        study.optimize(mapping[model_name], n_trials=n_trials, n_jobs=1)\n",
    "        return study"
   ]
  },
  {
   "cell_type": "markdown",
   "id": "51d68dab",
   "metadata": {},
   "source": [
    "---"
   ]
  },
  {
   "cell_type": "markdown",
   "id": "236e1d1b",
   "metadata": {},
   "source": [
    "## Model Inference and CV Scores\n",
    "\n",
    "In this section, I did 10, 20, 50 and 100 trials over these 3 models and found that XGBoost was consistently performing better on leaderboard scores (despite having higher CV scores than LightGBM). This could be because XGBoost was doing a better job of generalization while LightGBM might be slightly overfitting in comparison."
   ]
  },
  {
   "cell_type": "code",
   "execution_count": 115,
   "id": "73da3d21",
   "metadata": {},
   "outputs": [],
   "source": [
    "# tuner = ModelTuner(X, y)\n",
    "# study_gb  = tuner.run(model_name=\"gb\", n_trials=100)\n",
    "# study_lgb = tuner.run(model_name=\"lgb\", n_trials=100)\n",
    "# study_xgb = tuner.run(model_name=\"xgb\", n_trials=100)"
   ]
  },
  {
   "cell_type": "code",
   "execution_count": null,
   "id": "b2b996b5",
   "metadata": {},
   "outputs": [
    {
     "name": "stdout",
     "output_type": "stream",
     "text": [
      "BEST CV SCORE for GradientBoosting: 1079.63\n"
     ]
    }
   ],
   "source": [
    "print(f'BEST CV SCORE for GradientBoosting: {study_gb.best_value:0.2f}')"
   ]
  },
  {
   "cell_type": "code",
   "execution_count": null,
   "id": "3ba3977d",
   "metadata": {},
   "outputs": [],
   "source": [
    "gb_best_params = study_gb.best_params\n",
    "gb_best_params['random_state'] = 42\n",
    "\n",
    "final_model = GradientBoostingRegressor(**gb_best_params)\n",
    "final_model.fit(X,y)\n",
    "y_preds = final_model.predict(df_test)\n",
    "\n",
    "submit = test[['Item_Identifier','Outlet_Identifier']].copy()\n",
    "submit['Item_Outlet_Sales'] = y_preds\n",
    "submit.Item_Outlet_Sales = submit.Item_Outlet_Sales.clip(lower=0) # Clipping lower bound to 0 since sales cannot be < 0\n",
    "submit.to_csv('submission.csv',index=False)"
   ]
  },
  {
   "cell_type": "code",
   "execution_count": null,
   "id": "4320abe0",
   "metadata": {},
   "outputs": [
    {
     "name": "stdout",
     "output_type": "stream",
     "text": [
      "BEST CV SCORE for LightGBM: 1077.86\n"
     ]
    }
   ],
   "source": [
    "print(f'BEST CV SCORE for LightGBM: {study_lgb.best_value:0.2f}')"
   ]
  },
  {
   "cell_type": "code",
   "execution_count": null,
   "id": "beb17491",
   "metadata": {},
   "outputs": [],
   "source": [
    "lgb_best_params = study_lgb.best_params\n",
    "lgb_best_params['objective'] ='regression'\n",
    "lgb_best_params['metric'] = 'rmse'\n",
    "lgb_best_params['random_state'] = 42\n",
    "lgb_best_params['n_jobs'] = -1\n",
    "lgb_best_params['verbosity'] = -1\n",
    "lgb_best_params['boosting_type'] = 'gbdt'\n",
    "\n",
    "final_model = lgb.LGBMRegressor(**lgb_best_params)\n",
    "final_model.fit(X,y)\n",
    "y_preds = final_model.predict(df_test)\n",
    "\n",
    "submit = test[['Item_Identifier','Outlet_Identifier']].copy()\n",
    "submit['Item_Outlet_Sales'] = y_preds\n",
    "submit.Item_Outlet_Sales = submit.Item_Outlet_Sales.clip(lower=0) # Clipping lower bound to 0 since sales cannot be < 0\n",
    "submit.to_csv('submission.csv',index=False)"
   ]
  },
  {
   "cell_type": "code",
   "execution_count": null,
   "id": "bbe927f1",
   "metadata": {},
   "outputs": [
    {
     "name": "stdout",
     "output_type": "stream",
     "text": [
      "BEST CV SCORE for XGBoost: 1078.34\n"
     ]
    }
   ],
   "source": [
    "print(f'BEST CV SCORE for XGBoost: {study_xgb.best_value:0.2f}')"
   ]
  },
  {
   "cell_type": "code",
   "execution_count": null,
   "id": "c4be3575",
   "metadata": {},
   "outputs": [],
   "source": [
    "xgb_best_params = study_xgb.best_params\n",
    "xgb_best_params['objective'] ='reg:squarederror'\n",
    "xgb_best_params['eval_metric'] = 'rmse'\n",
    "xgb_best_params['random_state'] = 42\n",
    "xgb_best_params['n_jobs'] = -1\n",
    "\n",
    "final_model = xgb.XGBRegressor(**xgb_best_params)\n",
    "final_model.fit(X,y)\n",
    "y_preds = final_model.predict(df_test)\n",
    "\n",
    "submit = test[['Item_Identifier','Outlet_Identifier']].copy()\n",
    "submit['Item_Outlet_Sales'] = y_preds\n",
    "submit.Item_Outlet_Sales = submit.Item_Outlet_Sales.clip(lower=0) # Clipping lower bound to 0 since sales cannot be < 0\n",
    "submit.to_csv('submission.csv',index=False)"
   ]
  },
  {
   "cell_type": "markdown",
   "id": "dc528083",
   "metadata": {},
   "source": [
    "Since XGBoost has consistently performed better in terms of LB scores (despite of worse CV scores compared to LightGBM), we will move on to the rigourous optimization part with XGBoost alone and focus more on additional feature engineering and higher training regime.\n",
    "\n",
    "On the other hand, gradient boost has not only a bad CV score (comparitively) but also fails to perform better on LB scores."
   ]
  },
  {
   "cell_type": "markdown",
   "id": "1b3264d0",
   "metadata": {},
   "source": [
    "---"
   ]
  },
  {
   "cell_type": "markdown",
   "id": "aca64e82",
   "metadata": {},
   "source": [
    "## Additional Optimization\n",
    "\n",
    "From our inferences, we have concluded that XGBoost is not only faster to train but also ends up giving a better leaderboard score. Now we try to improve the hyperparameters further with higher number of trials.\n",
    "\n",
    "Since this is an iterative process, we will not only perform hyperparameter tuning but also do **addtional feature engineering** in our EDA notebook to see what works and what doesn't."
   ]
  },
  {
   "cell_type": "code",
   "execution_count": 114,
   "id": "82eca567",
   "metadata": {},
   "outputs": [],
   "source": [
    "# tuner = ModelTuner(X, y)\n",
    "# study_xgb = tuner.run(model_name=\"xgb\", n_trials=200)"
   ]
  },
  {
   "cell_type": "code",
   "execution_count": null,
   "id": "308f51ba",
   "metadata": {},
   "outputs": [],
   "source": [
    "xgb_best_params = study_xgb.best_params\n",
    "xgb_best_params['objective'] ='reg:squarederror'\n",
    "xgb_best_params['eval_metric'] = 'rmse'\n",
    "xgb_best_params['random_state'] = 42\n",
    "xgb_best_params['n_jobs'] = -1\n",
    "\n",
    "final_model = xgb.XGBRegressor(**xgb_best_params)\n",
    "final_model.fit(X,y)\n",
    "y_preds = final_model.predict(df_test)\n",
    "\n",
    "submit = test[['Item_Identifier','Outlet_Identifier']].copy()\n",
    "submit['Item_Outlet_Sales'] = y_preds\n",
    "submit.Item_Outlet_Sales = submit.Item_Outlet_Sales.clip(lower=0) # Clipping lower bound to 0 since sales cannot be < 0\n",
    "submit.to_csv('submission.csv',index=False)"
   ]
  },
  {
   "cell_type": "markdown",
   "id": "1e6a086e",
   "metadata": {},
   "source": [
    "After numerous trials, loads of feature engineering (adding/removing/modifying) features from the dataset, I finally have a solution with a leaderboard RMSE score of roughly 1146 putting me at a RANK of ***259*** out of a total of ***53k*** registered participants."
   ]
  }
 ],
 "metadata": {
  "kernelspec": {
   "display_name": ".venv",
   "language": "python",
   "name": "python3"
  },
  "language_info": {
   "codemirror_mode": {
    "name": "ipython",
    "version": 3
   },
   "file_extension": ".py",
   "mimetype": "text/x-python",
   "name": "python",
   "nbconvert_exporter": "python",
   "pygments_lexer": "ipython3",
   "version": "3.13.5"
  }
 },
 "nbformat": 4,
 "nbformat_minor": 5
}
